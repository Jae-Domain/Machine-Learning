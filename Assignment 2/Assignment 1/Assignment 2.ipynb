{
 "cells": [
  {
   "cell_type": "code",
   "execution_count": 33,
   "metadata": {},
   "outputs": [
    {
     "data": {
      "text/html": [
       "<div>\n",
       "<style scoped>\n",
       "    .dataframe tbody tr th:only-of-type {\n",
       "        vertical-align: middle;\n",
       "    }\n",
       "\n",
       "    .dataframe tbody tr th {\n",
       "        vertical-align: top;\n",
       "    }\n",
       "\n",
       "    .dataframe thead th {\n",
       "        text-align: right;\n",
       "    }\n",
       "</style>\n",
       "<table border=\"1\" class=\"dataframe\">\n",
       "  <thead>\n",
       "    <tr style=\"text-align: right;\">\n",
       "      <th></th>\n",
       "      <th>#</th>\n",
       "      <th>Name</th>\n",
       "      <th>Type 1</th>\n",
       "      <th>Type 2</th>\n",
       "      <th>Total</th>\n",
       "      <th>HP</th>\n",
       "      <th>Attack</th>\n",
       "      <th>Defense</th>\n",
       "      <th>Sp. Atk</th>\n",
       "      <th>Sp. Def</th>\n",
       "      <th>Speed</th>\n",
       "      <th>Generation</th>\n",
       "      <th>Legendary</th>\n",
       "    </tr>\n",
       "  </thead>\n",
       "  <tbody>\n",
       "    <tr>\n",
       "      <th>0</th>\n",
       "      <td>1</td>\n",
       "      <td>Bulbasaur</td>\n",
       "      <td>Grass</td>\n",
       "      <td>Poison</td>\n",
       "      <td>318</td>\n",
       "      <td>45</td>\n",
       "      <td>49</td>\n",
       "      <td>49</td>\n",
       "      <td>65</td>\n",
       "      <td>65</td>\n",
       "      <td>45</td>\n",
       "      <td>1</td>\n",
       "      <td>False</td>\n",
       "    </tr>\n",
       "    <tr>\n",
       "      <th>1</th>\n",
       "      <td>2</td>\n",
       "      <td>Ivysaur</td>\n",
       "      <td>Grass</td>\n",
       "      <td>Poison</td>\n",
       "      <td>405</td>\n",
       "      <td>60</td>\n",
       "      <td>62</td>\n",
       "      <td>63</td>\n",
       "      <td>80</td>\n",
       "      <td>80</td>\n",
       "      <td>60</td>\n",
       "      <td>1</td>\n",
       "      <td>False</td>\n",
       "    </tr>\n",
       "    <tr>\n",
       "      <th>2</th>\n",
       "      <td>3</td>\n",
       "      <td>Venusaur</td>\n",
       "      <td>Grass</td>\n",
       "      <td>Poison</td>\n",
       "      <td>525</td>\n",
       "      <td>80</td>\n",
       "      <td>82</td>\n",
       "      <td>83</td>\n",
       "      <td>100</td>\n",
       "      <td>100</td>\n",
       "      <td>80</td>\n",
       "      <td>1</td>\n",
       "      <td>False</td>\n",
       "    </tr>\n",
       "    <tr>\n",
       "      <th>3</th>\n",
       "      <td>3</td>\n",
       "      <td>VenusaurMega Venusaur</td>\n",
       "      <td>Grass</td>\n",
       "      <td>Poison</td>\n",
       "      <td>625</td>\n",
       "      <td>80</td>\n",
       "      <td>100</td>\n",
       "      <td>123</td>\n",
       "      <td>122</td>\n",
       "      <td>120</td>\n",
       "      <td>80</td>\n",
       "      <td>1</td>\n",
       "      <td>False</td>\n",
       "    </tr>\n",
       "    <tr>\n",
       "      <th>4</th>\n",
       "      <td>4</td>\n",
       "      <td>Charmander</td>\n",
       "      <td>Fire</td>\n",
       "      <td>NaN</td>\n",
       "      <td>309</td>\n",
       "      <td>39</td>\n",
       "      <td>52</td>\n",
       "      <td>43</td>\n",
       "      <td>60</td>\n",
       "      <td>50</td>\n",
       "      <td>65</td>\n",
       "      <td>1</td>\n",
       "      <td>False</td>\n",
       "    </tr>\n",
       "  </tbody>\n",
       "</table>\n",
       "</div>"
      ],
      "text/plain": [
       "   #                   Name Type 1  Type 2  Total  HP  Attack  Defense  \\\n",
       "0  1              Bulbasaur  Grass  Poison    318  45      49       49   \n",
       "1  2                Ivysaur  Grass  Poison    405  60      62       63   \n",
       "2  3               Venusaur  Grass  Poison    525  80      82       83   \n",
       "3  3  VenusaurMega Venusaur  Grass  Poison    625  80     100      123   \n",
       "4  4             Charmander   Fire     NaN    309  39      52       43   \n",
       "\n",
       "   Sp. Atk  Sp. Def  Speed  Generation  Legendary  \n",
       "0       65       65     45           1      False  \n",
       "1       80       80     60           1      False  \n",
       "2      100      100     80           1      False  \n",
       "3      122      120     80           1      False  \n",
       "4       60       50     65           1      False  "
      ]
     },
     "execution_count": 33,
     "metadata": {},
     "output_type": "execute_result"
    }
   ],
   "source": [
    "import pandas as pd #data analysis library\n",
    "import matplotlib.pyplot as plt #graphing\n",
    "import seaborn as sns #graphing\n",
    "from sklearn.linear_model import LinearRegression \n",
    "from sklearn import linear_model\n",
    "from sklearn.model_selection import train_test_split\n",
    "import numpy as np\n",
    "\n",
    "poke_df = pd.read_csv(\"Pokemon.csv\")\n",
    "poke_df.head()"
   ]
  },
  {
   "cell_type": "code",
   "execution_count": 42,
   "metadata": {},
   "outputs": [],
   "source": [
    "poke_stats = ['HP', \"Attack\", \"Defense\", \"Sp. Atk\", \"Sp. Def\", \"Speed\"]\n",
    "\n",
    "#drop unecessary information"
   ]
  },
  {
   "cell_type": "code",
   "execution_count": 43,
   "metadata": {},
   "outputs": [
    {
     "ename": "KeyError",
     "evalue": "\"['#' 'Name' 'Type 1' 'Type 2' 'Generation' 'Legendary'] not found in axis\"",
     "output_type": "error",
     "traceback": [
      "\u001b[1;31m---------------------------------------------------------------------------\u001b[0m",
      "\u001b[1;31mKeyError\u001b[0m                                  Traceback (most recent call last)",
      "\u001b[1;32m<ipython-input-43-4d7166320651>\u001b[0m in \u001b[0;36m<module>\u001b[1;34m\u001b[0m\n\u001b[1;32m----> 1\u001b[1;33m \u001b[0mpoke_df\u001b[0m \u001b[1;33m=\u001b[0m \u001b[0mpoke_df\u001b[0m\u001b[1;33m.\u001b[0m\u001b[0mdrop\u001b[0m\u001b[1;33m(\u001b[0m\u001b[0mcolumns\u001b[0m \u001b[1;33m=\u001b[0m \u001b[1;33m[\u001b[0m\u001b[1;34m'#'\u001b[0m\u001b[1;33m,\u001b[0m\u001b[1;34m'Name'\u001b[0m\u001b[1;33m,\u001b[0m \u001b[1;34m'Type 1'\u001b[0m\u001b[1;33m,\u001b[0m \u001b[1;34m'Type 2'\u001b[0m\u001b[1;33m,\u001b[0m \u001b[1;34m'Generation'\u001b[0m\u001b[1;33m,\u001b[0m \u001b[1;34m\"Legendary\"\u001b[0m\u001b[1;33m]\u001b[0m\u001b[1;33m)\u001b[0m\u001b[1;33m\u001b[0m\u001b[1;33m\u001b[0m\u001b[0m\n\u001b[0m\u001b[0;32m      2\u001b[0m \u001b[0mpoke_df\u001b[0m\u001b[1;33m.\u001b[0m\u001b[0mhead\u001b[0m\u001b[1;33m(\u001b[0m\u001b[1;33m)\u001b[0m\u001b[1;33m\u001b[0m\u001b[1;33m\u001b[0m\u001b[0m\n",
      "\u001b[1;32m~\\anaconda3\\lib\\site-packages\\pandas\\core\\frame.py\u001b[0m in \u001b[0;36mdrop\u001b[1;34m(self, labels, axis, index, columns, level, inplace, errors)\u001b[0m\n\u001b[0;32m   3988\u001b[0m                 \u001b[0mweight\u001b[0m  \u001b[1;36m1.0\u001b[0m     \u001b[1;36m0.8\u001b[0m\u001b[1;33m\u001b[0m\u001b[1;33m\u001b[0m\u001b[0m\n\u001b[0;32m   3989\u001b[0m         \"\"\"\n\u001b[1;32m-> 3990\u001b[1;33m         return super().drop(\n\u001b[0m\u001b[0;32m   3991\u001b[0m             \u001b[0mlabels\u001b[0m\u001b[1;33m=\u001b[0m\u001b[0mlabels\u001b[0m\u001b[1;33m,\u001b[0m\u001b[1;33m\u001b[0m\u001b[1;33m\u001b[0m\u001b[0m\n\u001b[0;32m   3992\u001b[0m             \u001b[0maxis\u001b[0m\u001b[1;33m=\u001b[0m\u001b[0maxis\u001b[0m\u001b[1;33m,\u001b[0m\u001b[1;33m\u001b[0m\u001b[1;33m\u001b[0m\u001b[0m\n",
      "\u001b[1;32m~\\anaconda3\\lib\\site-packages\\pandas\\core\\generic.py\u001b[0m in \u001b[0;36mdrop\u001b[1;34m(self, labels, axis, index, columns, level, inplace, errors)\u001b[0m\n\u001b[0;32m   3934\u001b[0m         \u001b[1;32mfor\u001b[0m \u001b[0maxis\u001b[0m\u001b[1;33m,\u001b[0m \u001b[0mlabels\u001b[0m \u001b[1;32min\u001b[0m \u001b[0maxes\u001b[0m\u001b[1;33m.\u001b[0m\u001b[0mitems\u001b[0m\u001b[1;33m(\u001b[0m\u001b[1;33m)\u001b[0m\u001b[1;33m:\u001b[0m\u001b[1;33m\u001b[0m\u001b[1;33m\u001b[0m\u001b[0m\n\u001b[0;32m   3935\u001b[0m             \u001b[1;32mif\u001b[0m \u001b[0mlabels\u001b[0m \u001b[1;32mis\u001b[0m \u001b[1;32mnot\u001b[0m \u001b[1;32mNone\u001b[0m\u001b[1;33m:\u001b[0m\u001b[1;33m\u001b[0m\u001b[1;33m\u001b[0m\u001b[0m\n\u001b[1;32m-> 3936\u001b[1;33m                 \u001b[0mobj\u001b[0m \u001b[1;33m=\u001b[0m \u001b[0mobj\u001b[0m\u001b[1;33m.\u001b[0m\u001b[0m_drop_axis\u001b[0m\u001b[1;33m(\u001b[0m\u001b[0mlabels\u001b[0m\u001b[1;33m,\u001b[0m \u001b[0maxis\u001b[0m\u001b[1;33m,\u001b[0m \u001b[0mlevel\u001b[0m\u001b[1;33m=\u001b[0m\u001b[0mlevel\u001b[0m\u001b[1;33m,\u001b[0m \u001b[0merrors\u001b[0m\u001b[1;33m=\u001b[0m\u001b[0merrors\u001b[0m\u001b[1;33m)\u001b[0m\u001b[1;33m\u001b[0m\u001b[1;33m\u001b[0m\u001b[0m\n\u001b[0m\u001b[0;32m   3937\u001b[0m \u001b[1;33m\u001b[0m\u001b[0m\n\u001b[0;32m   3938\u001b[0m         \u001b[1;32mif\u001b[0m \u001b[0minplace\u001b[0m\u001b[1;33m:\u001b[0m\u001b[1;33m\u001b[0m\u001b[1;33m\u001b[0m\u001b[0m\n",
      "\u001b[1;32m~\\anaconda3\\lib\\site-packages\\pandas\\core\\generic.py\u001b[0m in \u001b[0;36m_drop_axis\u001b[1;34m(self, labels, axis, level, errors)\u001b[0m\n\u001b[0;32m   3968\u001b[0m                 \u001b[0mnew_axis\u001b[0m \u001b[1;33m=\u001b[0m \u001b[0maxis\u001b[0m\u001b[1;33m.\u001b[0m\u001b[0mdrop\u001b[0m\u001b[1;33m(\u001b[0m\u001b[0mlabels\u001b[0m\u001b[1;33m,\u001b[0m \u001b[0mlevel\u001b[0m\u001b[1;33m=\u001b[0m\u001b[0mlevel\u001b[0m\u001b[1;33m,\u001b[0m \u001b[0merrors\u001b[0m\u001b[1;33m=\u001b[0m\u001b[0merrors\u001b[0m\u001b[1;33m)\u001b[0m\u001b[1;33m\u001b[0m\u001b[1;33m\u001b[0m\u001b[0m\n\u001b[0;32m   3969\u001b[0m             \u001b[1;32melse\u001b[0m\u001b[1;33m:\u001b[0m\u001b[1;33m\u001b[0m\u001b[1;33m\u001b[0m\u001b[0m\n\u001b[1;32m-> 3970\u001b[1;33m                 \u001b[0mnew_axis\u001b[0m \u001b[1;33m=\u001b[0m \u001b[0maxis\u001b[0m\u001b[1;33m.\u001b[0m\u001b[0mdrop\u001b[0m\u001b[1;33m(\u001b[0m\u001b[0mlabels\u001b[0m\u001b[1;33m,\u001b[0m \u001b[0merrors\u001b[0m\u001b[1;33m=\u001b[0m\u001b[0merrors\u001b[0m\u001b[1;33m)\u001b[0m\u001b[1;33m\u001b[0m\u001b[1;33m\u001b[0m\u001b[0m\n\u001b[0m\u001b[0;32m   3971\u001b[0m             \u001b[0mresult\u001b[0m \u001b[1;33m=\u001b[0m \u001b[0mself\u001b[0m\u001b[1;33m.\u001b[0m\u001b[0mreindex\u001b[0m\u001b[1;33m(\u001b[0m\u001b[1;33m**\u001b[0m\u001b[1;33m{\u001b[0m\u001b[0maxis_name\u001b[0m\u001b[1;33m:\u001b[0m \u001b[0mnew_axis\u001b[0m\u001b[1;33m}\u001b[0m\u001b[1;33m)\u001b[0m\u001b[1;33m\u001b[0m\u001b[1;33m\u001b[0m\u001b[0m\n\u001b[0;32m   3972\u001b[0m \u001b[1;33m\u001b[0m\u001b[0m\n",
      "\u001b[1;32m~\\anaconda3\\lib\\site-packages\\pandas\\core\\indexes\\base.py\u001b[0m in \u001b[0;36mdrop\u001b[1;34m(self, labels, errors)\u001b[0m\n\u001b[0;32m   5016\u001b[0m         \u001b[1;32mif\u001b[0m \u001b[0mmask\u001b[0m\u001b[1;33m.\u001b[0m\u001b[0many\u001b[0m\u001b[1;33m(\u001b[0m\u001b[1;33m)\u001b[0m\u001b[1;33m:\u001b[0m\u001b[1;33m\u001b[0m\u001b[1;33m\u001b[0m\u001b[0m\n\u001b[0;32m   5017\u001b[0m             \u001b[1;32mif\u001b[0m \u001b[0merrors\u001b[0m \u001b[1;33m!=\u001b[0m \u001b[1;34m\"ignore\"\u001b[0m\u001b[1;33m:\u001b[0m\u001b[1;33m\u001b[0m\u001b[1;33m\u001b[0m\u001b[0m\n\u001b[1;32m-> 5018\u001b[1;33m                 \u001b[1;32mraise\u001b[0m \u001b[0mKeyError\u001b[0m\u001b[1;33m(\u001b[0m\u001b[1;34mf\"{labels[mask]} not found in axis\"\u001b[0m\u001b[1;33m)\u001b[0m\u001b[1;33m\u001b[0m\u001b[1;33m\u001b[0m\u001b[0m\n\u001b[0m\u001b[0;32m   5019\u001b[0m             \u001b[0mindexer\u001b[0m \u001b[1;33m=\u001b[0m \u001b[0mindexer\u001b[0m\u001b[1;33m[\u001b[0m\u001b[1;33m~\u001b[0m\u001b[0mmask\u001b[0m\u001b[1;33m]\u001b[0m\u001b[1;33m\u001b[0m\u001b[1;33m\u001b[0m\u001b[0m\n\u001b[0;32m   5020\u001b[0m         \u001b[1;32mreturn\u001b[0m \u001b[0mself\u001b[0m\u001b[1;33m.\u001b[0m\u001b[0mdelete\u001b[0m\u001b[1;33m(\u001b[0m\u001b[0mindexer\u001b[0m\u001b[1;33m)\u001b[0m\u001b[1;33m\u001b[0m\u001b[1;33m\u001b[0m\u001b[0m\n",
      "\u001b[1;31mKeyError\u001b[0m: \"['#' 'Name' 'Type 1' 'Type 2' 'Generation' 'Legendary'] not found in axis\""
     ]
    }
   ],
   "source": [
    "poke_df = poke_df.drop(columns = ['#','Name', 'Type 1', 'Type 2', 'Generation', \"Legendary\"])\n",
    "poke_df.head()"
   ]
  },
  {
   "cell_type": "code",
   "execution_count": 44,
   "metadata": {},
   "outputs": [
    {
     "data": {
      "image/png": "[encoded data removed]",
      "text/plain": [
       "<Figure size 1080x720 with 6 Axes>"
      ]
     },
     "metadata": {
      "needs_background": "light"
     },
     "output_type": "display_data"
    }
   ],
   "source": [
    "plt.figure(figsize = (15,10)) #horizontal & vertical size in inches\n",
    "for i in enumerate(poke_stats):\n",
    "    plt.subplot(3,3,i[0]+1)\n",
    "    sns.scatterplot(data=poke_df, x=i[1], y = 'HP')"
   ]
  },
  {
   "cell_type": "code",
   "execution_count": 45,
   "metadata": {},
   "outputs": [
    {
     "name": "stdout",
     "output_type": "stream",
     "text": [
      "     Attack  Defense  Sp. Atk  Sp. Def\n",
      "0        49       49       65       65\n",
      "1        62       63       80       80\n",
      "2        82       83      100      100\n",
      "3       100      123      122      120\n",
      "4        52       43       60       50\n",
      "..      ...      ...      ...      ...\n",
      "795     100      150      100      150\n",
      "796     160      110      160      110\n",
      "797     110       60      150      130\n",
      "798     160       60      170      130\n",
      "799     110      120      130       90\n",
      "\n",
      "[800 rows x 4 columns]\n"
     ]
    }
   ],
   "source": [
    "#preprocessing independent variables\n",
    "x = poke_df.iloc[:,2:6] \n",
    "print(x)"
   ]
  },
  {
   "cell_type": "code",
   "execution_count": 46,
   "metadata": {},
   "outputs": [
    {
     "name": "stdout",
     "output_type": "stream",
     "text": [
      "0      45\n",
      "1      60\n",
      "2      80\n",
      "3      80\n",
      "4      39\n",
      "       ..\n",
      "795    50\n",
      "796    50\n",
      "797    80\n",
      "798    80\n",
      "799    80\n",
      "Name: HP, Length: 800, dtype: int64\n"
     ]
    }
   ],
   "source": [
    "#preprocessing dependent variables\n",
    "y = poke_df.iloc[:,1]\n",
    "print (y)"
   ]
  },
  {
   "cell_type": "code",
   "execution_count": 10,
   "metadata": {},
   "outputs": [
    {
     "data": {
      "text/plain": [
       "LinearRegression()"
      ]
     },
     "execution_count": 10,
     "metadata": {},
     "output_type": "execute_result"
    }
   ],
   "source": [
    "linreg = LinearRegression()\n",
    "\n",
    "linreg.fit(x,y)"
   ]
  },
  {
   "cell_type": "code",
   "execution_count": 11,
   "metadata": {},
   "outputs": [],
   "source": [
    "lm = linear_model.LinearRegression()\n",
    "model = lm.fit(x,y) #fits a linear model"
   ]
  },
  {
   "cell_type": "code",
   "execution_count": 13,
   "metadata": {},
   "outputs": [
    {
     "name": "stdout",
     "output_type": "stream",
     "text": [
      "[ 60.52625937  68.03948387  78.67023774  87.18377202  57.3446795\n",
      "  64.82673068  76.04511023  87.141167    93.12639775  57.63323934\n",
      "  65.88520077  77.91043478  87.71098063  41.05245588  38.34566384\n",
      "  65.16688838  42.84061606  40.13382401  75.34226458  89.73297103\n",
      "  49.87693184  57.84999724  68.48075111  75.08796936  52.64712046\n",
      "  68.72452308  53.438956    68.95938152  59.24921555  72.53765788\n",
      "  57.76465818  77.00327714  51.84645743  65.13489977  51.12115998\n",
      "  59.09422539  75.23884933  54.86776244  62.67054573  76.67912681\n",
      "  59.1949778   73.13633756  58.13322491  76.47587721  49.44371009\n",
      "  63.71152856  51.37065855  69.97447782  60.94082143  67.19294798\n",
      "  75.81893081  61.64292846  74.27845338  57.65481035  68.37081725\n",
      "  56.66791775  69.30344266  52.02357597  65.31201831  57.24543294\n",
      "  73.19156374  62.62878166  75.91722399  62.73215243  80.97748774\n",
      "  52.96032559  58.36104158  76.44321525  55.34152628  63.31459168\n",
      "  74.07661736  74.98546594  58.56270554  70.26148084  85.53657648\n",
      "  59.36809731  67.34116271  78.1031884   68.0478002   81.20497072\n",
      "  52.58471391  60.55777931  72.32377593  69.82508827  77.79815367\n",
      "  54.91916388  68.88607182  64.8849502   54.09321548  64.59269753\n",
      "  63.08153841  60.35086571  73.63930805  59.01409442  72.30253676\n",
      "  63.07260467  83.33344772  48.08224522  57.63528038  52.24739585\n",
      "  61.61494139  70.98248693  77.46925607  42.12250675  66.13031499\n",
      "  79.74521604  58.52746008  71.81590242  51.82191201  64.17360474\n",
      "  49.53008856  73.91327091  51.06652781  66.98393961  90.12412364\n",
      "  83.82309152  62.41003937  55.06524719  68.35368953  54.37287408\n",
      "  69.66925829  61.47995162  51.85470584  72.97261854  86.32828219\n",
      "  45.45649597  57.35045817  58.35235269  75.06455499  56.46294755\n",
      "  72.40907835  75.69853109  78.03935935  73.62219308  76.64649703\n",
      "  80.24284748  77.63494263  90.33768887  70.26899731  33.57335649\n",
      "  88.11624436 102.75654032  77.36927757  54.48771735  60.77022934\n",
      "  75.25457266  75.25457266  96.17055056  65.83049309  52.57498\n",
      "  61.71200716  59.25185844  75.13724499  76.88599886  89.58874509\n",
      "  88.33627345  84.68625473  79.52321673  80.42794109  59.79137171\n",
      "  70.42212558  91.81807596  86.44079154 110.17761956 110.02180233\n",
      "  82.12767741  58.11933461  65.48212631  76.11288018  57.3446795\n",
      "  64.82673068  76.04511023  57.49664013  65.38456447  77.37777324\n",
      "  53.44922944  62.51160483  52.56308605  70.07759533  56.79284792\n",
      "  68.52364846  55.68523537  68.18948847  73.56891591  55.36772028\n",
      "  65.99847415  50.64300334  51.67964292  44.06111184  49.62947055\n",
      "  67.14397982  55.88785271  69.17629505  53.2621895   61.2352549\n",
      "  74.78293463  87.37244076  76.45064569  45.41731111  62.01635934\n",
      "  66.51877864  76.79101191  52.72994262  58.04531956  68.0872065\n",
      "  61.31646975  44.92003887  75.28976873  60.3016761   46.00934886\n",
      "  67.2708566   76.5604075   77.49429377  65.82314818  79.80718434\n",
      "  69.47086393  62.59450265  51.35852627  69.24351637  51.06969864\n",
      "  62.22961458  64.46060775  60.88437344  56.82671779  73.53900612\n",
      "  60.28364439  75.93851256  67.40529924  81.78635781  90.06137315\n",
      "  76.915379    85.7564936  101.48927038  73.38020607  63.7255221\n",
      "  83.8262389   52.19416806  59.91655196  49.51844788  70.06298771\n",
      "  64.67404781  57.71120896  78.97271669  56.9238489   78.18245665\n",
      "  60.98783024  61.9372759   78.73481726  80.07688758  79.46998894\n",
      "  53.98241426  72.10716506  76.46124696  73.25984551  45.29994681\n",
      "  47.57772733  79.73592484  59.54956151  62.57386545  66.17021591\n",
      "  63.96776718  73.39525177  81.14821525  79.86683979  77.56881011\n",
      "  59.03920773  69.6699616   90.21450142 100.56150912  91.25600406\n",
      " 106.86712027  82.12767741  57.83930995  66.53251409  77.16326796\n",
      "  85.73580155  60.43294792  69.31073769  82.41776522  96.56078894\n",
      "  61.00061231  69.61599386  81.93566134  97.36331736  51.30660805\n",
      "  68.18948847  47.05134357  63.13191701  47.92878085  42.43302852\n",
      "  64.26519941  42.43302852  65.00381276  51.15087685  61.78163072\n",
      "  75.8542623   45.94212754  59.71598     73.72456108  51.73231333\n",
      "  64.23656643  46.55233242  59.1568715   46.35714552  55.11440016\n",
      "  81.38616408  95.0255739   52.19130422  68.13743502  54.11051526\n",
      "  78.23771706  52.26147541  62.89222928  88.38931643  43.89894021\n",
      "  66.87613716  59.99238175  50.65719119  61.28794506  74.70765921\n",
      "  52.4418508   75.90979355  43.47976139  57.78073054  49.45122656\n",
      "  60.08198043  65.39735737  79.11585063  63.8289789   77.02899738\n",
      "  53.30168183  58.78773688  64.27379194  73.76938908  53.14174039\n",
      "  63.77249426  77.91551798  53.23016425  67.89166274  73.72551446\n",
      "  65.65981497  64.21953749  68.16890545  62.7817253   70.33287575\n",
      "  53.76757861  69.71370941  61.61715883  75.62573991  86.47310465\n",
      "  59.40012256  68.0933267   58.71200907  78.03596708  91.91010552\n",
      "  65.28841353  59.68834979  72.25665339  60.86616967  67.88010809\n",
      "  61.00061231  76.94674311  65.43563823  79.44421931  58.29395568\n",
      "  74.24008648  86.0485742   75.8531735   74.3774785   68.33562118\n",
      "  69.34284897  52.83056694  68.77669775  58.26496584  75.65137412\n",
      "  57.32518082  77.14641108  61.83692764  77.91750108  67.15996935\n",
      "  81.40327905  47.35065061  79.98840114  66.18154661  84.92325017\n",
      "  59.7477432   77.76586637  96.76984273  59.27024702  77.15392755\n",
      "  69.40154689  65.15298087  80.91991431  88.98140356  46.04314933\n",
      "  55.55079274  71.49692354  85.00823237  53.15234166  63.78309553\n",
      "  74.4138494   59.34721144  75.42778489  71.28380016  63.49612915\n",
      "  53.20579089  55.28081866  64.20875142  88.44267963  90.35241434\n",
      "  56.16860011  66.79935398  85.995211    93.24813766  70.34898475\n",
      "  96.39273131  83.37085803  86.54906666  96.9813274   85.85330128\n",
      "  99.79783186  97.3995162  118.56073796  89.55762384  99.29411919\n",
      "  97.07926372 109.15029507  82.12767741  89.32906481  93.64989725\n",
      "  83.61949415  78.50121408  60.331677    67.70790309  78.33865696\n",
      "  57.09052467  65.39621886  77.85991408  57.95944588  67.65345013\n",
      "  80.33160157  51.73231333  58.9211895   75.71130041  51.27141198\n",
      "  67.35198543  45.36242996  65.60819067  55.88516043  65.54713944\n",
      "  83.18218384  56.95600956  79.95965869  69.95527128  87.01522086\n",
      "  57.65698827  70.3961054   47.48858074  72.25601668  69.11925973\n",
      "  70.6876382   70.41323245  47.24509854  75.75953294  63.31489915\n",
      "  55.9902701   72.39730226  53.50932232  66.79776466  58.97988742\n",
      "  74.6773821   72.92833865  55.89259088  67.96362223  61.70312044\n",
      "  72.83114656  88.32919472  76.35461934  79.9661719   53.44639377\n",
      "  66.50267792  51.08034929  56.25090869  70.25948977  53.74362101\n",
      "  80.85922962  55.88802477  61.62589952  49.01827565  60.57494764\n",
      "  80.97545543  59.37892002  66.56779619  85.23883678  99.83628478\n",
      "  75.04783111  58.08368645  80.01931415  89.65625295  56.14697558\n",
      "  73.96660561  52.23379581  68.96728668  57.32885294  76.06711485\n",
      "  76.04962075  57.77001999  69.795254    67.55170278  62.39314567\n",
      "  77.37050161  93.90549934  82.78294769  71.8456242   75.76570302\n",
      "  74.98463522  66.70726703  86.69472562  83.81269076  74.41810902\n",
      "  65.55311133  69.92532485  70.94089983  68.0732496   78.89063449\n",
      "  74.54489977  93.81811827 102.16352575  78.34674373  86.62389048\n",
      "  69.55937381  63.72030539  74.27323668  74.27323668  74.27323668\n",
      "  74.27323668  74.27323668  79.49575857  84.78536588  84.75959625\n",
      "  89.13926298  96.42000465  82.52404972  99.10885101  86.00277686\n",
      "  88.88333182  78.98471423  71.49692354  82.12767741  79.75042887\n",
      "  82.12767741  79.40711087  92.75843128  82.12767741  54.830654\n",
      "  63.77249426  72.71433453  57.79794188  69.54251452  81.61354587\n",
      "  56.79326541  66.45524442  75.56024633  53.8025668   69.42223889\n",
      "  55.67463411  65.65247055  79.32399165  53.03197809  68.38653612\n",
      "  56.17663095  74.28317798  56.17663095  74.28317798  56.17663095\n",
      "  74.28317798  51.6686633   70.20526126  50.42124267  59.65518827\n",
      "  73.08233095  54.78811301  73.65290858  50.778436    63.06607822\n",
      "  80.92103975  53.15851174  60.18988149  63.23907256  82.04455579\n",
      "  65.90379896  74.95983271  57.48408284  66.9049422   80.75353245\n",
      "  53.61324301  61.58630841  74.94197207  74.65093087  79.52565561\n",
      "  56.80148742  64.05441408  77.11129863  49.04837719  60.17640331\n",
      "  71.48032375  47.58329702  65.93848017  52.7692629   67.03708137\n",
      "  69.07153041  57.65989354  62.97527048  77.81075334  63.19644604\n",
      "  79.73792084  66.63375345  72.31064006  51.49540392  69.37908445\n",
      "  65.25879053  78.7180464   67.00383208  51.63093535  65.73980241\n",
      "  57.46945928  70.6266298   73.04346036  87.02939341  57.22293499\n",
      "  74.66596332  59.65935995  77.04576824  52.96032559  70.72981263\n",
      "  54.6108723   63.87917127  72.75379022  54.54342953  60.51172389]\n"
     ]
    }
   ],
   "source": [
    "#make predictions\n",
    "predictions = lm.predict(x)\n",
    "print(predictions)"
   ]
  },
  {
   "cell_type": "code",
   "execution_count": 17,
   "metadata": {},
   "outputs": [
    {
     "data": {
      "text/plain": [
       "28.97390806246264"
      ]
     },
     "execution_count": 17,
     "metadata": {},
     "output_type": "execute_result"
    }
   ],
   "source": [
    "lm.score(x,y) #returns R2 score, percentage of explained variance\n",
    "lm.coef_ #returns m\n",
    "lm.intercept_ #returns intercept"
   ]
  },
  {
   "cell_type": "code",
   "execution_count": 21,
   "metadata": {},
   "outputs": [],
   "source": [
    "#train test split\n",
    "x_train, x_test, y_train, y_test = train_test_split(x,y, test_size = 0.2) #20% testing"
   ]
  },
  {
   "cell_type": "code",
   "execution_count": 49,
   "metadata": {},
   "outputs": [
    {
     "name": "stdout",
     "output_type": "stream",
     "text": [
      "[ 0.24723282 -0.11178312  0.07431177  0.31175748]\n",
      "30.251996526374995\n"
     ]
    }
   ],
   "source": [
    "model = LinearRegression()\n",
    "model.fit(x_train,y_train)\n",
    "print(model.coef_)\n"
   ]
  },
  {
   "cell_type": "code",
   "execution_count": 50,
   "metadata": {},
   "outputs": [
    {
     "name": "stdout",
     "output_type": "stream",
     "text": [
      "30.251996526374995\n"
     ]
    }
   ],
   "source": [
    "print(model.intercept_)"
   ]
  },
  {
   "cell_type": "code",
   "execution_count": 51,
   "metadata": {},
   "outputs": [
    {
     "data": {
      "text/html": [
       "<div>\n",
       "<style scoped>\n",
       "    .dataframe tbody tr th:only-of-type {\n",
       "        vertical-align: middle;\n",
       "    }\n",
       "\n",
       "    .dataframe tbody tr th {\n",
       "        vertical-align: top;\n",
       "    }\n",
       "\n",
       "    .dataframe thead th {\n",
       "        text-align: right;\n",
       "    }\n",
       "</style>\n",
       "<table border=\"1\" class=\"dataframe\">\n",
       "  <thead>\n",
       "    <tr style=\"text-align: right;\">\n",
       "      <th></th>\n",
       "      <th>Coeff</th>\n",
       "    </tr>\n",
       "  </thead>\n",
       "  <tbody>\n",
       "    <tr>\n",
       "      <th>Attack</th>\n",
       "      <td>0.247233</td>\n",
       "    </tr>\n",
       "    <tr>\n",
       "      <th>Defense</th>\n",
       "      <td>-0.111783</td>\n",
       "    </tr>\n",
       "    <tr>\n",
       "      <th>Sp. Atk</th>\n",
       "      <td>0.074312</td>\n",
       "    </tr>\n",
       "    <tr>\n",
       "      <th>Sp. Def</th>\n",
       "      <td>0.311757</td>\n",
       "    </tr>\n",
       "  </tbody>\n",
       "</table>\n",
       "</div>"
      ],
      "text/plain": [
       "            Coeff\n",
       "Attack   0.247233\n",
       "Defense -0.111783\n",
       "Sp. Atk  0.074312\n",
       "Sp. Def  0.311757"
      ]
     },
     "execution_count": 51,
     "metadata": {},
     "output_type": "execute_result"
    }
   ],
   "source": [
    "pd.DataFrame(model.coef_, x.columns, columns = [\"Coeff\"])"
   ]
  },
  {
   "cell_type": "code",
   "execution_count": 52,
   "metadata": {},
   "outputs": [],
   "source": [
    "predictions = model.predict(x_test) #holds predicted variables fr/ x_test"
   ]
  },
  {
   "cell_type": "code",
   "execution_count": 53,
   "metadata": {},
   "outputs": [
    {
     "data": {
      "text/plain": [
       "<matplotlib.collections.PathCollection at 0x23448acc610>"
      ]
     },
     "execution_count": 53,
     "metadata": {},
     "output_type": "execute_result"
    },
    {
     "data": {
      "image/png": "[encoded data removed]",
      "text/plain": [
       "<Figure size 432x288 with 1 Axes>"
      ]
     },
     "metadata": {
      "needs_background": "light"
     },
     "output_type": "display_data"
    }
   ],
   "source": [
    "plt.scatter(y_test, predictions) #compare with y_test REAL values"
   ]
  },
  {
   "cell_type": "code",
   "execution_count": 54,
   "metadata": {},
   "outputs": [
    {
     "data": {
      "text/plain": [
       "(array([ 2., 13., 32., 33., 26.,  7., 11.,  3.,  0.,  1.]),\n",
       " array([-44.66257363, -33.12684544, -21.59111726, -10.05538907,\n",
       "          1.48033912,  13.01606731,  24.5517955 ,  36.08752369,\n",
       "         47.62325187,  59.15898006,  70.69470825]),\n",
       " <a list of 10 Patch objects>)"
      ]
     },
     "execution_count": 54,
     "metadata": {},
     "output_type": "execute_result"
    },
    {
     "data": {
      "image/png": "[encoded data removed]",
      "text/plain": [
       "<Figure size 432x288 with 1 Axes>"
      ]
     },
     "metadata": {
      "needs_background": "light"
     },
     "output_type": "display_data"
    }
   ],
   "source": [
    "#plot residuals, difference between y-values\n",
    "plt.hist(y_test- predictions)"
   ]
  },
  {
   "cell_type": "code",
   "execution_count": 55,
   "metadata": {},
   "outputs": [
    {
     "data": {
      "text/plain": [
       "14.15809390323045"
      ]
     },
     "execution_count": 55,
     "metadata": {},
     "output_type": "execute_result"
    }
   ],
   "source": [
    "from sklearn import metrics\n",
    "#calculating error\n",
    "metrics.mean_absolute_error(y_test, predictions)"
   ]
  },
  {
   "cell_type": "code",
   "execution_count": 58,
   "metadata": {},
   "outputs": [
    {
     "data": {
      "text/plain": [
       "333.184001491408"
      ]
     },
     "execution_count": 58,
     "metadata": {},
     "output_type": "execute_result"
    }
   ],
   "source": [
    "metrics.mean_squared_error(y_test,predictions)\n"
   ]
  },
  {
   "cell_type": "code",
   "execution_count": 60,
   "metadata": {},
   "outputs": [
    {
     "data": {
      "text/plain": [
       "18.253328504451126"
      ]
     },
     "execution_count": 60,
     "metadata": {},
     "output_type": "execute_result"
    }
   ],
   "source": [
    "np.sqrt(metrics.mean_squared_error(y_test, predictions)) #root mse"
   ]
  },
  {
   "cell_type": "code",
   "execution_count": null,
   "metadata": {},
   "outputs": [],
   "source": []
  }
 ],
 "metadata": {
  "kernelspec": {
   "display_name": "Python 3",
   "language": "python",
   "name": "python3"
  },
  "language_info": {
   "codemirror_mode": {
    "name": "ipython",
    "version": 3
   },
   "file_extension": ".py",
   "mimetype": "text/x-python",
   "name": "python",
   "nbconvert_exporter": "python",
   "pygments_lexer": "ipython3",
   "version": "3.8.3"
  }
 },
 "nbformat": 4,
 "nbformat_minor": 4
}
