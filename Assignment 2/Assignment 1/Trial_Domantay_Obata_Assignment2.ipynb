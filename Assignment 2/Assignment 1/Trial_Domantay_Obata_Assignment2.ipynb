{
 "cells": [
  {
   "cell_type": "markdown",
   "metadata": {},
   "source": [
    "# Assignment 2: Linear Regression\n",
    "\n",
    "## Janelle Domantay   \n",
    "## Dylan Obata"
   ]
  },
  {
   "cell_type": "markdown",
   "metadata": {},
   "source": [
    "## Dataset and Source\n",
    "For our project, we used The Complete Pokemon Dataset found on Kaggle. https://www.kaggle.com/rounakbanik/pokemon"
   ]
  },
  {
   "cell_type": "markdown",
   "metadata": {},
   "source": [
    "## Characteristics\n",
    "Our dataset has 13 features, consisting of:\n",
    "* 6 Categorical Features (#, Name, Type 1, Type 2, Generation, and Legendary)\n",
    "* 7 Quantatative Features (Total, HP, Attack, Defense, Sp. Atk, Sp Def. Defense, and Speed)"
   ]
  },
  {
   "cell_type": "code",
   "execution_count": 107,
   "metadata": {},
   "outputs": [
    {
     "data": {
      "text/html": [
       "<div>\n",
       "<style scoped>\n",
       "    .dataframe tbody tr th:only-of-type {\n",
       "        vertical-align: middle;\n",
       "    }\n",
       "\n",
       "    .dataframe tbody tr th {\n",
       "        vertical-align: top;\n",
       "    }\n",
       "\n",
       "    .dataframe thead th {\n",
       "        text-align: right;\n",
       "    }\n",
       "</style>\n",
       "<table border=\"1\" class=\"dataframe\">\n",
       "  <thead>\n",
       "    <tr style=\"text-align: right;\">\n",
       "      <th></th>\n",
       "      <th>#</th>\n",
       "      <th>Name</th>\n",
       "      <th>Type 1</th>\n",
       "      <th>Type 2</th>\n",
       "      <th>Total</th>\n",
       "      <th>HP</th>\n",
       "      <th>Attack</th>\n",
       "      <th>Defense</th>\n",
       "      <th>Sp. Atk</th>\n",
       "      <th>Sp. Def</th>\n",
       "      <th>Speed</th>\n",
       "      <th>Generation</th>\n",
       "      <th>Legendary</th>\n",
       "    </tr>\n",
       "  </thead>\n",
       "  <tbody>\n",
       "    <tr>\n",
       "      <th>0</th>\n",
       "      <td>1</td>\n",
       "      <td>Bulbasaur</td>\n",
       "      <td>Grass</td>\n",
       "      <td>Poison</td>\n",
       "      <td>318</td>\n",
       "      <td>45</td>\n",
       "      <td>49</td>\n",
       "      <td>49</td>\n",
       "      <td>65</td>\n",
       "      <td>65</td>\n",
       "      <td>45</td>\n",
       "      <td>1</td>\n",
       "      <td>False</td>\n",
       "    </tr>\n",
       "    <tr>\n",
       "      <th>1</th>\n",
       "      <td>2</td>\n",
       "      <td>Ivysaur</td>\n",
       "      <td>Grass</td>\n",
       "      <td>Poison</td>\n",
       "      <td>405</td>\n",
       "      <td>60</td>\n",
       "      <td>62</td>\n",
       "      <td>63</td>\n",
       "      <td>80</td>\n",
       "      <td>80</td>\n",
       "      <td>60</td>\n",
       "      <td>1</td>\n",
       "      <td>False</td>\n",
       "    </tr>\n",
       "    <tr>\n",
       "      <th>2</th>\n",
       "      <td>3</td>\n",
       "      <td>Venusaur</td>\n",
       "      <td>Grass</td>\n",
       "      <td>Poison</td>\n",
       "      <td>525</td>\n",
       "      <td>80</td>\n",
       "      <td>82</td>\n",
       "      <td>83</td>\n",
       "      <td>100</td>\n",
       "      <td>100</td>\n",
       "      <td>80</td>\n",
       "      <td>1</td>\n",
       "      <td>False</td>\n",
       "    </tr>\n",
       "    <tr>\n",
       "      <th>3</th>\n",
       "      <td>3</td>\n",
       "      <td>VenusaurMega Venusaur</td>\n",
       "      <td>Grass</td>\n",
       "      <td>Poison</td>\n",
       "      <td>625</td>\n",
       "      <td>80</td>\n",
       "      <td>100</td>\n",
       "      <td>123</td>\n",
       "      <td>122</td>\n",
       "      <td>120</td>\n",
       "      <td>80</td>\n",
       "      <td>1</td>\n",
       "      <td>False</td>\n",
       "    </tr>\n",
       "    <tr>\n",
       "      <th>4</th>\n",
       "      <td>4</td>\n",
       "      <td>Charmander</td>\n",
       "      <td>Fire</td>\n",
       "      <td>NaN</td>\n",
       "      <td>309</td>\n",
       "      <td>39</td>\n",
       "      <td>52</td>\n",
       "      <td>43</td>\n",
       "      <td>60</td>\n",
       "      <td>50</td>\n",
       "      <td>65</td>\n",
       "      <td>1</td>\n",
       "      <td>False</td>\n",
       "    </tr>\n",
       "  </tbody>\n",
       "</table>\n",
       "</div>"
      ],
      "text/plain": [
       "   #                   Name Type 1  Type 2  Total  HP  Attack  Defense  \\\n",
       "0  1              Bulbasaur  Grass  Poison    318  45      49       49   \n",
       "1  2                Ivysaur  Grass  Poison    405  60      62       63   \n",
       "2  3               Venusaur  Grass  Poison    525  80      82       83   \n",
       "3  3  VenusaurMega Venusaur  Grass  Poison    625  80     100      123   \n",
       "4  4             Charmander   Fire     NaN    309  39      52       43   \n",
       "\n",
       "   Sp. Atk  Sp. Def  Speed  Generation  Legendary  \n",
       "0       65       65     45           1      False  \n",
       "1       80       80     60           1      False  \n",
       "2      100      100     80           1      False  \n",
       "3      122      120     80           1      False  \n",
       "4       60       50     65           1      False  "
      ]
     },
     "execution_count": 107,
     "metadata": {},
     "output_type": "execute_result"
    }
   ],
   "source": [
    "import pandas as pd #data analysis library\n",
    "import matplotlib.pyplot as plt #graphing\n",
    "import seaborn as sns #graphing\n",
    "from sklearn.linear_model import LinearRegression\n",
    "from sklearn.linear_model import SGDRegressor\n",
    "from sklearn import linear_model\n",
    "from sklearn.model_selection import train_test_split, GridSearchCV\n",
    "import numpy as np\n",
    "from sklearn import metrics\n",
    "import statsmodels.api as sm\n",
    "from sklearn.pipeline import make_pipeline\n",
    "from sklearn.preprocessing import StandardScaler\n",
    "\n",
    "poke_df = pd.read_csv(\"Pokemon.csv\")\n",
    "poke_df.head()"
   ]
  },
  {
   "cell_type": "markdown",
   "metadata": {},
   "source": [
    "## Data Preprocessing\n",
    "In order to apply regression, we had to remove the categorical data features \n",
    "* #\n",
    "* Name\n",
    "* Type 1\n",
    "* Type 2\n",
    "* Generation\n",
    "* Legendary\n",
    "\n",
    "Additionally, we removed the quantatative features \n",
    "* Special Attack\n",
    "* Special Defense\n",
    "\n",
    "In order to reduce the dimensionality of our data."
   ]
  },
  {
   "cell_type": "code",
   "execution_count": 108,
   "metadata": {},
   "outputs": [
    {
     "data": {
      "text/html": [
       "<div>\n",
       "<style scoped>\n",
       "    .dataframe tbody tr th:only-of-type {\n",
       "        vertical-align: middle;\n",
       "    }\n",
       "\n",
       "    .dataframe tbody tr th {\n",
       "        vertical-align: top;\n",
       "    }\n",
       "\n",
       "    .dataframe thead th {\n",
       "        text-align: right;\n",
       "    }\n",
       "</style>\n",
       "<table border=\"1\" class=\"dataframe\">\n",
       "  <thead>\n",
       "    <tr style=\"text-align: right;\">\n",
       "      <th></th>\n",
       "      <th>HP</th>\n",
       "      <th>Attack</th>\n",
       "      <th>Defense</th>\n",
       "      <th>Speed</th>\n",
       "    </tr>\n",
       "  </thead>\n",
       "  <tbody>\n",
       "    <tr>\n",
       "      <th>0</th>\n",
       "      <td>45</td>\n",
       "      <td>49</td>\n",
       "      <td>49</td>\n",
       "      <td>45</td>\n",
       "    </tr>\n",
       "    <tr>\n",
       "      <th>1</th>\n",
       "      <td>60</td>\n",
       "      <td>62</td>\n",
       "      <td>63</td>\n",
       "      <td>60</td>\n",
       "    </tr>\n",
       "    <tr>\n",
       "      <th>2</th>\n",
       "      <td>80</td>\n",
       "      <td>82</td>\n",
       "      <td>83</td>\n",
       "      <td>80</td>\n",
       "    </tr>\n",
       "    <tr>\n",
       "      <th>3</th>\n",
       "      <td>80</td>\n",
       "      <td>100</td>\n",
       "      <td>123</td>\n",
       "      <td>80</td>\n",
       "    </tr>\n",
       "    <tr>\n",
       "      <th>4</th>\n",
       "      <td>39</td>\n",
       "      <td>52</td>\n",
       "      <td>43</td>\n",
       "      <td>65</td>\n",
       "    </tr>\n",
       "  </tbody>\n",
       "</table>\n",
       "</div>"
      ],
      "text/plain": [
       "   HP  Attack  Defense  Speed\n",
       "0  45      49       49     45\n",
       "1  60      62       63     60\n",
       "2  80      82       83     80\n",
       "3  80     100      123     80\n",
       "4  39      52       43     65"
      ]
     },
     "execution_count": 108,
     "metadata": {},
     "output_type": "execute_result"
    }
   ],
   "source": [
    "poke_stats = ['HP', \"Attack\", \"Defense\", \"Speed\"]\n",
    "poke_df = poke_df.drop(columns = ['#','Name', 'Type 1', 'Type 2', 'Total', 'Sp. Atk', 'Sp. Def', 'Generation', \"Legendary\"])\n",
    "poke_df.head()"
   ]
  },
  {
   "cell_type": "code",
   "execution_count": 109,
   "metadata": {},
   "outputs": [
    {
     "data": {
      "image/png": "[encoded data removed]",
      "text/plain": [
       "<Figure size 1080x720 with 4 Axes>"
      ]
     },
     "metadata": {
      "needs_background": "light"
     },
     "output_type": "display_data"
    }
   ],
   "source": [
    "plt.figure(figsize = (15,10)) #horizontal & vertical size in inches\n",
    "for i in enumerate(poke_stats):\n",
    "    plt.subplot(3,3,i[0]+1)\n",
    "    sns.scatterplot(data=poke_df, x=i[1], y = 'HP')"
   ]
  },
  {
   "cell_type": "code",
   "execution_count": 110,
   "metadata": {},
   "outputs": [
    {
     "data": {
      "text/html": [
       "<div>\n",
       "<style scoped>\n",
       "    .dataframe tbody tr th:only-of-type {\n",
       "        vertical-align: middle;\n",
       "    }\n",
       "\n",
       "    .dataframe tbody tr th {\n",
       "        vertical-align: top;\n",
       "    }\n",
       "\n",
       "    .dataframe thead th {\n",
       "        text-align: right;\n",
       "    }\n",
       "</style>\n",
       "<table border=\"1\" class=\"dataframe\">\n",
       "  <thead>\n",
       "    <tr style=\"text-align: right;\">\n",
       "      <th></th>\n",
       "      <th>Attack</th>\n",
       "      <th>Defense</th>\n",
       "      <th>Speed</th>\n",
       "    </tr>\n",
       "  </thead>\n",
       "  <tbody>\n",
       "    <tr>\n",
       "      <th>0</th>\n",
       "      <td>49</td>\n",
       "      <td>49</td>\n",
       "      <td>45</td>\n",
       "    </tr>\n",
       "    <tr>\n",
       "      <th>1</th>\n",
       "      <td>62</td>\n",
       "      <td>63</td>\n",
       "      <td>60</td>\n",
       "    </tr>\n",
       "    <tr>\n",
       "      <th>2</th>\n",
       "      <td>82</td>\n",
       "      <td>83</td>\n",
       "      <td>80</td>\n",
       "    </tr>\n",
       "    <tr>\n",
       "      <th>3</th>\n",
       "      <td>100</td>\n",
       "      <td>123</td>\n",
       "      <td>80</td>\n",
       "    </tr>\n",
       "    <tr>\n",
       "      <th>4</th>\n",
       "      <td>52</td>\n",
       "      <td>43</td>\n",
       "      <td>65</td>\n",
       "    </tr>\n",
       "    <tr>\n",
       "      <th>...</th>\n",
       "      <td>...</td>\n",
       "      <td>...</td>\n",
       "      <td>...</td>\n",
       "    </tr>\n",
       "    <tr>\n",
       "      <th>795</th>\n",
       "      <td>100</td>\n",
       "      <td>150</td>\n",
       "      <td>50</td>\n",
       "    </tr>\n",
       "    <tr>\n",
       "      <th>796</th>\n",
       "      <td>160</td>\n",
       "      <td>110</td>\n",
       "      <td>110</td>\n",
       "    </tr>\n",
       "    <tr>\n",
       "      <th>797</th>\n",
       "      <td>110</td>\n",
       "      <td>60</td>\n",
       "      <td>70</td>\n",
       "    </tr>\n",
       "    <tr>\n",
       "      <th>798</th>\n",
       "      <td>160</td>\n",
       "      <td>60</td>\n",
       "      <td>80</td>\n",
       "    </tr>\n",
       "    <tr>\n",
       "      <th>799</th>\n",
       "      <td>110</td>\n",
       "      <td>120</td>\n",
       "      <td>70</td>\n",
       "    </tr>\n",
       "  </tbody>\n",
       "</table>\n",
       "<p>800 rows × 3 columns</p>\n",
       "</div>"
      ],
      "text/plain": [
       "     Attack  Defense  Speed\n",
       "0        49       49     45\n",
       "1        62       63     60\n",
       "2        82       83     80\n",
       "3       100      123     80\n",
       "4        52       43     65\n",
       "..      ...      ...    ...\n",
       "795     100      150     50\n",
       "796     160      110    110\n",
       "797     110       60     70\n",
       "798     160       60     80\n",
       "799     110      120     70\n",
       "\n",
       "[800 rows x 3 columns]"
      ]
     },
     "execution_count": 110,
     "metadata": {},
     "output_type": "execute_result"
    }
   ],
   "source": [
    "#preprocessing independent variables\n",
    "x = poke_df.iloc[:,1:4] \n",
    "atk = poke_df.iloc[:,1]\n",
    "dfs = poke_df.iloc[:,2]\n",
    "spd = poke_df.iloc[:,3]\n",
    "x"
   ]
  },
  {
   "cell_type": "code",
   "execution_count": 111,
   "metadata": {},
   "outputs": [
    {
     "name": "stdout",
     "output_type": "stream",
     "text": [
      "0      45\n",
      "1      60\n",
      "2      80\n",
      "3      80\n",
      "4      39\n",
      "       ..\n",
      "795    50\n",
      "796    50\n",
      "797    80\n",
      "798    80\n",
      "799    80\n",
      "Name: HP, Length: 800, dtype: int64\n"
     ]
    }
   ],
   "source": [
    "#preprocessing dependent variables\n",
    "y = poke_df.iloc[:,0]\n",
    "print(y)"
   ]
  },
  {
   "cell_type": "code",
   "execution_count": 112,
   "metadata": {},
   "outputs": [],
   "source": [
    "#train test split\n",
    "x_train, x_test, y_train, y_test = train_test_split(x,y, test_size = 0.2) #20% testing"
   ]
  },
  {
   "cell_type": "markdown",
   "metadata": {},
   "source": [
    "# Linear Regression with Ordinary Least Squares"
   ]
  },
  {
   "cell_type": "markdown",
   "metadata": {},
   "source": [
    "**For the Ordinary Least Squares Model, we had to add the constant term parameter vector.**"
   ]
  },
  {
   "cell_type": "code",
   "execution_count": 113,
   "metadata": {},
   "outputs": [],
   "source": [
    "x_trainnc = x_train\n",
    "x_train = sm.add_constant(x_train) #add constant term"
   ]
  },
  {
   "cell_type": "markdown",
   "metadata": {},
   "source": [
    "## Results for Ordinary Least Square Model\n",
    "After running the OLS model on our dataset we see that the linear equation that best fits our data is given by\n",
    "\n",
    "$\\hat{w} = 0.2940x_1 + 0.0421x_2 + 0.0089x_3 + 37.2368$\n",
    "\n",
    "where the bias is 37.2368.\n",
    "\n",
    "We also provide relevant metrics:\n",
    "* $r^2=0.16$\n",
    "* Absolute Error for Training Set = 15.291428398303669\n",
    "* Mean Square Error for Training Set = 534.7590917537507\n",
    "* Root Mean Square Error for Training Set = 23.12485874019019\n",
    "\n",
    "* Absolute Error for Test Set = 16.501750718281876\n",
    "* Mean Square Error for Test Set = 719.8984189650921\n",
    "* Root Mean Square Error for Test Set = 26.830922812402335\n",
    "\n",
    "Our low $r^2$ value shows that the data was not well modeled by linear regression."
   ]
  },
  {
   "cell_type": "code",
   "execution_count": 114,
   "metadata": {},
   "outputs": [
    {
     "data": {
      "text/html": [
       "<table class=\"simpletable\">\n",
       "<caption>OLS Regression Results</caption>\n",
       "<tr>\n",
       "  <th>Dep. Variable:</th>           <td>HP</td>        <th>  R-squared:         </th> <td>   0.156</td>\n",
       "</tr>\n",
       "<tr>\n",
       "  <th>Model:</th>                   <td>OLS</td>       <th>  Adj. R-squared:    </th> <td>   0.152</td>\n",
       "</tr>\n",
       "<tr>\n",
       "  <th>Method:</th>             <td>Least Squares</td>  <th>  F-statistic:       </th> <td>   39.10</td>\n",
       "</tr>\n",
       "<tr>\n",
       "  <th>Date:</th>             <td>Fri, 09 Oct 2020</td> <th>  Prob (F-statistic):</th> <td>3.37e-23</td>\n",
       "</tr>\n",
       "<tr>\n",
       "  <th>Time:</th>                 <td>15:04:19</td>     <th>  Log-Likelihood:    </th> <td> -2942.7</td>\n",
       "</tr>\n",
       "<tr>\n",
       "  <th>No. Observations:</th>      <td>   640</td>      <th>  AIC:               </th> <td>   5893.</td>\n",
       "</tr>\n",
       "<tr>\n",
       "  <th>Df Residuals:</th>          <td>   636</td>      <th>  BIC:               </th> <td>   5911.</td>\n",
       "</tr>\n",
       "<tr>\n",
       "  <th>Df Model:</th>              <td>     3</td>      <th>                     </th>     <td> </td>   \n",
       "</tr>\n",
       "<tr>\n",
       "  <th>Covariance Type:</th>      <td>nonrobust</td>    <th>                     </th>     <td> </td>   \n",
       "</tr>\n",
       "</table>\n",
       "<table class=\"simpletable\">\n",
       "<tr>\n",
       "     <td></td>        <th>coef</th>     <th>std err</th>      <th>t</th>      <th>P>|t|</th>  <th>[0.025</th>    <th>0.975]</th>  \n",
       "</tr>\n",
       "<tr>\n",
       "  <th>const</th>   <td>   42.3340</td> <td>    3.335</td> <td>   12.694</td> <td> 0.000</td> <td>   35.785</td> <td>   48.883</td>\n",
       "</tr>\n",
       "<tr>\n",
       "  <th>Attack</th>  <td>    0.2806</td> <td>    0.035</td> <td>    7.993</td> <td> 0.000</td> <td>    0.212</td> <td>    0.350</td>\n",
       "</tr>\n",
       "<tr>\n",
       "  <th>Defense</th> <td>    0.0573</td> <td>    0.034</td> <td>    1.684</td> <td> 0.093</td> <td>   -0.010</td> <td>    0.124</td>\n",
       "</tr>\n",
       "<tr>\n",
       "  <th>Speed</th>   <td>    0.0192</td> <td>    0.036</td> <td>    0.535</td> <td> 0.593</td> <td>   -0.051</td> <td>    0.090</td>\n",
       "</tr>\n",
       "</table>\n",
       "<table class=\"simpletable\">\n",
       "<tr>\n",
       "  <th>Omnibus:</th>       <td>449.316</td> <th>  Durbin-Watson:     </th> <td>   2.001</td>\n",
       "</tr>\n",
       "<tr>\n",
       "  <th>Prob(Omnibus):</th> <td> 0.000</td>  <th>  Jarque-Bera (JB):  </th> <td>9798.073</td>\n",
       "</tr>\n",
       "<tr>\n",
       "  <th>Skew:</th>          <td> 2.818</td>  <th>  Prob(JB):          </th> <td>    0.00</td>\n",
       "</tr>\n",
       "<tr>\n",
       "  <th>Kurtosis:</th>      <td>21.321</td>  <th>  Cond. No.          </th> <td>    470.</td>\n",
       "</tr>\n",
       "</table><br/><br/>Warnings:<br/>[1] Standard Errors assume that the covariance matrix of the errors is correctly specified."
      ],
      "text/plain": [
       "<class 'statsmodels.iolib.summary.Summary'>\n",
       "\"\"\"\n",
       "                            OLS Regression Results                            \n",
       "==============================================================================\n",
       "Dep. Variable:                     HP   R-squared:                       0.156\n",
       "Model:                            OLS   Adj. R-squared:                  0.152\n",
       "Method:                 Least Squares   F-statistic:                     39.10\n",
       "Date:                Fri, 09 Oct 2020   Prob (F-statistic):           3.37e-23\n",
       "Time:                        15:04:19   Log-Likelihood:                -2942.7\n",
       "No. Observations:                 640   AIC:                             5893.\n",
       "Df Residuals:                     636   BIC:                             5911.\n",
       "Df Model:                           3                                         \n",
       "Covariance Type:            nonrobust                                         \n",
       "==============================================================================\n",
       "                 coef    std err          t      P>|t|      [0.025      0.975]\n",
       "------------------------------------------------------------------------------\n",
       "const         42.3340      3.335     12.694      0.000      35.785      48.883\n",
       "Attack         0.2806      0.035      7.993      0.000       0.212       0.350\n",
       "Defense        0.0573      0.034      1.684      0.093      -0.010       0.124\n",
       "Speed          0.0192      0.036      0.535      0.593      -0.051       0.090\n",
       "==============================================================================\n",
       "Omnibus:                      449.316   Durbin-Watson:                   2.001\n",
       "Prob(Omnibus):                  0.000   Jarque-Bera (JB):             9798.073\n",
       "Skew:                           2.818   Prob(JB):                         0.00\n",
       "Kurtosis:                      21.321   Cond. No.                         470.\n",
       "==============================================================================\n",
       "\n",
       "Warnings:\n",
       "[1] Standard Errors assume that the covariance matrix of the errors is correctly specified.\n",
       "\"\"\""
      ]
     },
     "execution_count": 114,
     "metadata": {},
     "output_type": "execute_result"
    }
   ],
   "source": [
    "result = sm.OLS(y_train, x_train).fit()\n",
    "result.summary()"
   ]
  },
  {
   "cell_type": "code",
   "execution_count": 115,
   "metadata": {},
   "outputs": [
    {
     "data": {
      "image/png": "[encoded data removed]",
      "text/plain": [
       "<Figure size 1080x720 with 4 Axes>"
      ]
     },
     "metadata": {
      "needs_background": "light"
     },
     "output_type": "display_data"
    }
   ],
   "source": [
    "plt.figure(figsize = (15,10)) #horizontal & vertical size in inches\n",
    "for i in enumerate(poke_stats):\n",
    "    plt.subplot(3,3,i[0]+1)\n",
    "    sns.scatterplot(data=poke_df, x=i[1], y = 'HP')\n",
    "    px = np.arange(0,200,1)\n",
    "    bias = 37.2368\n",
    "    py = (0.2940 * atk[px]) + (.0421 * dfs[px]) + (.0089*spd[px]) + bias\n",
    "    plt.plot(py, 'r')\n",
    "    plt.show\n",
    "    \n",
    "#g(x) = 0.2940*x_1 + 0.0421*x_2 + 0.0089*x_3 + 37.2368"
   ]
  },
  {
   "cell_type": "code",
   "execution_count": 116,
   "metadata": {},
   "outputs": [
    {
     "name": "stdout",
     "output_type": "stream",
     "text": [
      "The Absoulte Error for the Training set is 16.03156696826443\n",
      "The Mean Squared Error for the Training set is 577.1423477410721\n",
      "The Root Mean Squared Error for the Training set is 24.023787123205036\n"
     ]
    }
   ],
   "source": [
    "ypred = result.predict(x_train)\n",
    "print(\"The Absoulte Error for the Training set is\", \n",
    "    metrics.mean_absolute_error(y_train, ypred)) #Absolute error\n",
    "\n",
    "print(\"The Mean Squared Error for the Training set is\", \n",
    "      metrics.mean_squared_error(y_train, ypred)) #MSE\n",
    "\n",
    "print(\"The Root Mean Squared Error for the Training set is\",\n",
    "      np.sqrt(metrics.mean_squared_error(y_train,ypred))) #RMSE"
   ]
  },
  {
   "cell_type": "code",
   "execution_count": 117,
   "metadata": {},
   "outputs": [
    {
     "name": "stdout",
     "output_type": "stream",
     "text": [
      "26     62.231683\n",
      "417    72.048203\n",
      "733    52.501014\n",
      "747    62.151001\n",
      "526    82.669447\n",
      "         ...    \n",
      "799    81.419510\n",
      "202    55.405686\n",
      "150    67.387104\n",
      "268    98.311453\n",
      "406    67.776727\n",
      "Length: 160, dtype: float64\n",
      "26      40\n",
      "417     80\n",
      "733     45\n",
      "747     74\n",
      "526     68\n",
      "      ... \n",
      "799     80\n",
      "202     35\n",
      "150     70\n",
      "268    100\n",
      "406     45\n",
      "Name: HP, Length: 160, dtype: int64\n"
     ]
    }
   ],
   "source": [
    "x_testnc = x_test #no constant\n",
    "x_test = sm.add_constant(x_test)\n",
    "ypred = result.predict(x_test)\n",
    "print(ypred)\n",
    "print(y_test)"
   ]
  },
  {
   "cell_type": "code",
   "execution_count": 118,
   "metadata": {},
   "outputs": [
    {
     "name": "stdout",
     "output_type": "stream",
     "text": [
      "The Absolute Error for the Test set is 14.451760912309208\n",
      "The Mean Squared Error for the Test set is 357.7482842486264\n",
      "The Root Mean Squared Error for the Test set is 18.914234963345105\n"
     ]
    }
   ],
   "source": [
    "#calculating errors\n",
    "print(\"The Absolute Error for the Test set is\"\n",
    "      ,metrics.mean_absolute_error(y_test, ypred))#Absolute error\n",
    "print(\"The Mean Squared Error for the Test set is\",\n",
    "      metrics.mean_squared_error(y_test, ypred))#MSE\n",
    "print(\"The Root Mean Squared Error for the Test set is\",\n",
    "      np.sqrt(metrics.mean_squared_error(y_test,ypred)))"
   ]
  },
  {
   "cell_type": "markdown",
   "metadata": {},
   "source": [
    "# Linear Regression with Gradient Descent"
   ]
  },
  {
   "cell_type": "code",
   "execution_count": 119,
   "metadata": {
    "scrolled": true
   },
   "outputs": [
    {
     "data": {
      "text/plain": [
       "SGDRegressor(average=True, learning_rate='constant', loss='huber',\n",
       "             penalty='elasticnet')"
      ]
     },
     "execution_count": 119,
     "metadata": {},
     "output_type": "execute_result"
    }
   ],
   "source": [
    "#gradient descent\n",
    "sgdr = SGDRegressor(max_iter = 1000,penalty = \"elasticnet\",loss = 'huber',tol = 1e-3, average = True, learning_rate = 'constant')\n",
    "sgdr.fit(x_trainnc, y_train)"
   ]
  },
  {
   "cell_type": "markdown",
   "metadata": {},
   "source": [
    "## Results for Linear Regression with Gradient Descent\n",
    "\n",
    "After running the LR with Gradient Descent model on our dataset we see that the linear equation that best fits our data is given by\n",
    "\n",
    "$\\hat{w} =  0.36384525x_1 + 0.27076375x_2 + 0.25237602x_3 + 0.29716996$\n",
    "\n",
    "where the bias is 0.29716996.\n",
    "\n",
    "\n",
    "We also provide relevant metrics:\n",
    "* Mean Absolute Error for the Training set is 16.58126437534663\n",
    "* Mean Squared Error for the Training set is 678.9338650222622\n",
    "* Root Mean Squared Error for the Training set is 26.05635939693537\n",
    "* Mean Absolute Error for the Test set is 15.120392095929683\n",
    "* Mean Squared Error for the Test set is 569.9625798593513\n",
    "* Root Mean Squared Error for the Test set is 23.873889081156243\n",
    "\n",
    "\n",
    "Iterations until Convergence: 7\n",
    "\n",
    "Learning Rate: 0.01\n"
   ]
  },
  {
   "cell_type": "code",
   "execution_count": 120,
   "metadata": {},
   "outputs": [
    {
     "name": "stdout",
     "output_type": "stream",
     "text": [
      "[ 46.29936281  80.59275732  32.89855235  63.5211758   82.50751617\n",
      "  46.73989033  80.98980707  36.50739594  64.33261678  53.5018178\n",
      "  43.15393165  40.92305157  94.75665392  73.78415032 106.12238708\n",
      "  61.83039207  86.85785983  62.96993509  61.65360608  82.94007199\n",
      "  80.80546761  47.66467127  85.68338571  56.01837287  77.73290189\n",
      "  50.06105677  80.46260123  87.233266    31.17088498  91.69292476\n",
      "  60.60957315  65.94015633  56.49363299  40.68854883  46.67090088\n",
      "  63.14146753  74.65340731  51.85901243  43.40855153  55.52982524\n",
      "  88.89398784  71.57863304  53.8282524   98.0277902   47.7408716\n",
      "  66.31771355  28.28656858  62.74416966  69.65522039  54.91618921\n",
      "  70.40111392  38.82495434  76.94889126  56.53448398  47.99062227\n",
      "  52.60035575  47.30679721 106.95671297  82.99989804  45.20592433\n",
      "  18.92279794  76.78811094  44.46605783  73.2449558   84.40055582\n",
      "  91.17332201  68.51882949 122.10732586  56.6677922   86.31058648\n",
      "  38.21839605  59.07660823  77.22523821  52.7374407   72.54163821\n",
      " 100.3178796   66.02736     61.70148519  44.72769794  60.01729559\n",
      "  53.91305691  77.65946147  41.45727764  67.29208279  84.04698385\n",
      "  35.06373611  32.96596574  73.15632494  47.7000206   51.30294428\n",
      "  61.89565441  97.50819533  99.04478024  75.69127221  36.15932564\n",
      "  55.22628342  60.14285972  60.82128236  61.16935266  46.81772422\n",
      "  97.59251623  43.79207828  87.15314007  51.05157579  79.92909113\n",
      "  78.8846321   48.23062669  51.9433412   64.3669154   42.1921757\n",
      "  76.12367128  86.86263765  46.64743312  53.78189973  43.84969578\n",
      "  70.33521909  46.50166049  76.47749138  64.6683558   74.33409219\n",
      "  43.63373411  60.9490889   61.96082539  84.78685035  70.27330738\n",
      "  59.46122745  60.99806835  42.69916515  78.35690091  88.63837475\n",
      "  51.38026069  95.80819069  50.37922193  77.81178648 103.81295713\n",
      "  67.16427625  36.20280341  94.05816377  82.05013077  86.7423767\n",
      "  43.94382831  68.4430474   53.5181582   64.8880942   73.94779767\n",
      "  41.14006395  99.74667064  31.74472072  78.75395066  31.60878573\n",
      "  58.48313109  88.02684015  56.46601988  81.50558345  46.31947995\n",
      "  91.78800875  36.02601742  72.11449268 120.55323485  56.49100621]\n"
     ]
    }
   ],
   "source": [
    "lgpred = sgdr.predict(x_testnc)\n",
    "print(lgpred)"
   ]
  },
  {
   "cell_type": "code",
   "execution_count": 121,
   "metadata": {},
   "outputs": [
    {
     "data": {
      "text/plain": [
       "0.203407257304137"
      ]
     },
     "execution_count": 121,
     "metadata": {},
     "output_type": "execute_result"
    }
   ],
   "source": [
    "metrics.r2_score(y_test, lgpred)"
   ]
  },
  {
   "cell_type": "code",
   "execution_count": 122,
   "metadata": {},
   "outputs": [
    {
     "ename": "IndexError",
     "evalue": "index 3 is out of bounds for axis 0 with size 3",
     "output_type": "error",
     "traceback": [
      "\u001b[1;31m---------------------------------------------------------------------------\u001b[0m",
      "\u001b[1;31mIndexError\u001b[0m                                Traceback (most recent call last)",
      "\u001b[1;32m<ipython-input-122-3e53847a19c5>\u001b[0m in \u001b[0;36m<module>\u001b[1;34m\u001b[0m\n\u001b[0;32m      5\u001b[0m     \u001b[0mpx\u001b[0m \u001b[1;33m=\u001b[0m \u001b[0mnp\u001b[0m\u001b[1;33m.\u001b[0m\u001b[0marange\u001b[0m\u001b[1;33m(\u001b[0m\u001b[1;36m0\u001b[0m\u001b[1;33m,\u001b[0m\u001b[1;36m200\u001b[0m\u001b[1;33m,\u001b[0m\u001b[1;36m1\u001b[0m\u001b[1;33m)\u001b[0m\u001b[1;33m\u001b[0m\u001b[1;33m\u001b[0m\u001b[0m\n\u001b[0;32m      6\u001b[0m     \u001b[0mbias\u001b[0m \u001b[1;33m=\u001b[0m \u001b[1;36m20\u001b[0m\u001b[1;33m\u001b[0m\u001b[1;33m\u001b[0m\u001b[0m\n\u001b[1;32m----> 7\u001b[1;33m     \u001b[0mpy\u001b[0m \u001b[1;33m=\u001b[0m \u001b[1;33m(\u001b[0m\u001b[0msgdr\u001b[0m\u001b[1;33m.\u001b[0m\u001b[0mcoef_\u001b[0m\u001b[1;33m[\u001b[0m\u001b[1;36m1\u001b[0m\u001b[1;33m]\u001b[0m \u001b[1;33m*\u001b[0m \u001b[0matk\u001b[0m\u001b[1;33m[\u001b[0m\u001b[0mpx\u001b[0m\u001b[1;33m]\u001b[0m\u001b[1;33m)\u001b[0m \u001b[1;33m+\u001b[0m \u001b[1;33m(\u001b[0m\u001b[0msgdr\u001b[0m\u001b[1;33m.\u001b[0m\u001b[0mcoef_\u001b[0m\u001b[1;33m[\u001b[0m\u001b[1;36m2\u001b[0m\u001b[1;33m]\u001b[0m \u001b[1;33m*\u001b[0m \u001b[0mdfs\u001b[0m\u001b[1;33m[\u001b[0m\u001b[0mpx\u001b[0m\u001b[1;33m]\u001b[0m\u001b[1;33m)\u001b[0m \u001b[1;33m+\u001b[0m \u001b[1;33m(\u001b[0m\u001b[0msgdr\u001b[0m\u001b[1;33m.\u001b[0m\u001b[0mcoef_\u001b[0m\u001b[1;33m[\u001b[0m\u001b[1;36m3\u001b[0m\u001b[1;33m]\u001b[0m\u001b[1;33m*\u001b[0m\u001b[0mspd\u001b[0m\u001b[1;33m[\u001b[0m\u001b[0mpx\u001b[0m\u001b[1;33m]\u001b[0m\u001b[1;33m)\u001b[0m \u001b[1;33m+\u001b[0m \u001b[0msgdr\u001b[0m\u001b[1;33m.\u001b[0m\u001b[0mintercept_\u001b[0m\u001b[1;33m\u001b[0m\u001b[1;33m\u001b[0m\u001b[0m\n\u001b[0m\u001b[0;32m      8\u001b[0m     \u001b[0mplt\u001b[0m\u001b[1;33m.\u001b[0m\u001b[0mplot\u001b[0m\u001b[1;33m(\u001b[0m\u001b[0mpy\u001b[0m\u001b[1;33m,\u001b[0m \u001b[1;34m'r'\u001b[0m\u001b[1;33m)\u001b[0m\u001b[1;33m\u001b[0m\u001b[1;33m\u001b[0m\u001b[0m\n\u001b[0;32m      9\u001b[0m     \u001b[0mplt\u001b[0m\u001b[1;33m.\u001b[0m\u001b[0mshow\u001b[0m\u001b[1;33m\u001b[0m\u001b[1;33m\u001b[0m\u001b[0m\n",
      "\u001b[1;31mIndexError\u001b[0m: index 3 is out of bounds for axis 0 with size 3"
     ]
    },
    {
     "data": {
      "image/png": "[encoded data removed]",
      "text/plain": [
       "<Figure size 1080x720 with 1 Axes>"
      ]
     },
     "metadata": {
      "needs_background": "light"
     },
     "output_type": "display_data"
    }
   ],
   "source": [
    "plt.figure(figsize = (15,10)) #horizontal & vertical size in inches\n",
    "for i in enumerate(poke_stats):\n",
    "    plt.subplot(3,3,i[0]+1)\n",
    "    sns.scatterplot(data=poke_df, x=i[1], y = 'HP')\n",
    "    px = np.arange(0,200,1)\n",
    "    bias = 20\n",
    "    py = (sgdr.coef_[1] * atk[px]) + (sgdr.coef_[2] * dfs[px]) + (sgdr.coef_[3]*spd[px]) + sgdr.intercept_\n",
    "    plt.plot(py, 'r')\n",
    "    plt.show\n",
    "    \n",
    "#g(x) = 0.36384525*x_1 + 0.27076375*x_2 + 0.25237602*x_3 + 0.29716996"
   ]
  },
  {
   "cell_type": "code",
   "execution_count": 123,
   "metadata": {},
   "outputs": [
    {
     "name": "stdout",
     "output_type": "stream",
     "text": [
      "Intercept:  [0.29374091]\n",
      "Iterations until Convergence:  11\n",
      "Learning Rate: 0.01\n"
     ]
    }
   ],
   "source": [
    "#print GD \n",
    "#print(\"Average Intercept \", sgdr.average_intercept_)\n",
    "print(\"Intercept: \", sgdr.intercept_)\n",
    "print(\"Iterations until Convergence: \", sgdr.n_iter_)\n",
    "print(\"Learning Rate: 0.01\")"
   ]
  },
  {
   "cell_type": "code",
   "execution_count": 124,
   "metadata": {},
   "outputs": [
    {
     "name": "stdout",
     "output_type": "stream",
     "text": [
      "The Mean Absolute Error for the Training set is 17.016109527976706\n",
      "The Mean Squared Error for the Training set is 723.5081075860065\n",
      "The Root Mean Squared Error for the Training set is 26.89810602228355\n"
     ]
    }
   ],
   "source": [
    "lgpred = sgdr.predict(x_trainnc)\n",
    "print(\"The Mean Absolute Error for the Training set is\",\n",
    "      metrics.mean_absolute_error(y_train, lgpred)) #Absolute error\n",
    "print(\"The Mean Squared Error for the Training set is\", \n",
    "      metrics.mean_squared_error(y_train, lgpred)) #MSE\n",
    "print(\"The Root Mean Squared Error for the Training set is\",\n",
    "      np.sqrt(metrics.mean_squared_error(y_train,lgpred))) #RMSE"
   ]
  },
  {
   "cell_type": "code",
   "execution_count": 125,
   "metadata": {},
   "outputs": [
    {
     "name": "stdout",
     "output_type": "stream",
     "text": [
      "[ 46.29936281  80.59275732  32.89855235  63.5211758   82.50751617\n",
      "  46.73989033  80.98980707  36.50739594  64.33261678  53.5018178\n",
      "  43.15393165  40.92305157  94.75665392  73.78415032 106.12238708\n",
      "  61.83039207  86.85785983  62.96993509  61.65360608  82.94007199\n",
      "  80.80546761  47.66467127  85.68338571  56.01837287  77.73290189\n",
      "  50.06105677  80.46260123  87.233266    31.17088498  91.69292476\n",
      "  60.60957315  65.94015633  56.49363299  40.68854883  46.67090088\n",
      "  63.14146753  74.65340731  51.85901243  43.40855153  55.52982524\n",
      "  88.89398784  71.57863304  53.8282524   98.0277902   47.7408716\n",
      "  66.31771355  28.28656858  62.74416966  69.65522039  54.91618921\n",
      "  70.40111392  38.82495434  76.94889126  56.53448398  47.99062227\n",
      "  52.60035575  47.30679721 106.95671297  82.99989804  45.20592433\n",
      "  18.92279794  76.78811094  44.46605783  73.2449558   84.40055582\n",
      "  91.17332201  68.51882949 122.10732586  56.6677922   86.31058648\n",
      "  38.21839605  59.07660823  77.22523821  52.7374407   72.54163821\n",
      " 100.3178796   66.02736     61.70148519  44.72769794  60.01729559\n",
      "  53.91305691  77.65946147  41.45727764  67.29208279  84.04698385\n",
      "  35.06373611  32.96596574  73.15632494  47.7000206   51.30294428\n",
      "  61.89565441  97.50819533  99.04478024  75.69127221  36.15932564\n",
      "  55.22628342  60.14285972  60.82128236  61.16935266  46.81772422\n",
      "  97.59251623  43.79207828  87.15314007  51.05157579  79.92909113\n",
      "  78.8846321   48.23062669  51.9433412   64.3669154   42.1921757\n",
      "  76.12367128  86.86263765  46.64743312  53.78189973  43.84969578\n",
      "  70.33521909  46.50166049  76.47749138  64.6683558   74.33409219\n",
      "  43.63373411  60.9490889   61.96082539  84.78685035  70.27330738\n",
      "  59.46122745  60.99806835  42.69916515  78.35690091  88.63837475\n",
      "  51.38026069  95.80819069  50.37922193  77.81178648 103.81295713\n",
      "  67.16427625  36.20280341  94.05816377  82.05013077  86.7423767\n",
      "  43.94382831  68.4430474   53.5181582   64.8880942   73.94779767\n",
      "  41.14006395  99.74667064  31.74472072  78.75395066  31.60878573\n",
      "  58.48313109  88.02684015  56.46601988  81.50558345  46.31947995\n",
      "  91.78800875  36.02601742  72.11449268 120.55323485  56.49100621]\n"
     ]
    }
   ],
   "source": [
    "lgpred = sgdr.predict(x_testnc)\n",
    "print(lgpred)"
   ]
  },
  {
   "cell_type": "code",
   "execution_count": 126,
   "metadata": {},
   "outputs": [
    {
     "name": "stdout",
     "output_type": "stream",
     "text": [
      "The Mean Absolute Error for the Test set is 13.764506274042606\n",
      "The Mean Squared Error for the Test set is 398.6931429909829\n",
      "The Root Mean Squared Error for the Test set is 19.967301845541947\n"
     ]
    }
   ],
   "source": [
    "print(\"The Mean Absolute Error for the Test set is\",\n",
    "      metrics.mean_absolute_error(y_test, lgpred)) #Absolute error\n",
    "print(\"The Mean Squared Error for the Test set is\",\n",
    "      metrics.mean_squared_error(y_test, lgpred)) #MSE\n",
    "print(\"The Root Mean Squared Error for the Test set is\",\n",
    "      np.sqrt(metrics.mean_squared_error(y_test,lgpred))) #RMSE"
   ]
  },
  {
   "cell_type": "code",
   "execution_count": 127,
   "metadata": {},
   "outputs": [
    {
     "name": "stdout",
     "output_type": "stream",
     "text": [
      "The coefficients are:  [0.3584908  0.30626785 0.2186877 ]\n"
     ]
    }
   ],
   "source": [
    "print(\"The coefficients are: \", sgdr.coef_)"
   ]
  },
  {
   "cell_type": "code",
   "execution_count": null,
   "metadata": {},
   "outputs": [],
   "source": []
  }
 ],
 "metadata": {
  "kernelspec": {
   "display_name": "Python 3",
   "language": "python",
   "name": "python3"
  },
  "language_info": {
   "codemirror_mode": {
    "name": "ipython",
    "version": 3
   },
   "file_extension": ".py",
   "mimetype": "text/x-python",
   "name": "python",
   "nbconvert_exporter": "python",
   "pygments_lexer": "ipython3",
   "version": "3.8.3"
  }
 },
 "nbformat": 4,
 "nbformat_minor": 4
}
