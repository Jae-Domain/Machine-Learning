{
 "cells": [
  {
   "cell_type": "code",
   "execution_count": 1,
   "metadata": {},
   "outputs": [
    {
     "name": "stdout",
     "output_type": "stream",
     "text": [
      "For this assignment we used the Abalone data set from the UCI Machine Learning Repository.\n",
      "https://archive.ics.uci.edu/ml/datasets/Abalone\n",
      "Our data set contains 9 features consisting of 8 quantitative features and 1 categorical feature (sex)\n"
     ]
    },
    {
     "data": {
      "text/html": [
       "<div>\n",
       "<style scoped>\n",
       "    .dataframe tbody tr th:only-of-type {\n",
       "        vertical-align: middle;\n",
       "    }\n",
       "\n",
       "    .dataframe tbody tr th {\n",
       "        vertical-align: top;\n",
       "    }\n",
       "\n",
       "    .dataframe thead th {\n",
       "        text-align: right;\n",
       "    }\n",
       "</style>\n",
       "<table border=\"1\" class=\"dataframe\">\n",
       "  <thead>\n",
       "    <tr style=\"text-align: right;\">\n",
       "      <th></th>\n",
       "      <th>Sex</th>\n",
       "      <th>Length</th>\n",
       "      <th>Diameter</th>\n",
       "      <th>Height</th>\n",
       "      <th>Whole weight</th>\n",
       "      <th>Shucked weight</th>\n",
       "      <th>Viscera weight</th>\n",
       "      <th>Shell weight</th>\n",
       "      <th>Rings</th>\n",
       "    </tr>\n",
       "  </thead>\n",
       "  <tbody>\n",
       "    <tr>\n",
       "      <th>0</th>\n",
       "      <td>M</td>\n",
       "      <td>0.455</td>\n",
       "      <td>0.365</td>\n",
       "      <td>0.095</td>\n",
       "      <td>0.5140</td>\n",
       "      <td>0.2245</td>\n",
       "      <td>0.1010</td>\n",
       "      <td>0.150</td>\n",
       "      <td>15</td>\n",
       "    </tr>\n",
       "    <tr>\n",
       "      <th>1</th>\n",
       "      <td>M</td>\n",
       "      <td>0.350</td>\n",
       "      <td>0.265</td>\n",
       "      <td>0.090</td>\n",
       "      <td>0.2255</td>\n",
       "      <td>0.0995</td>\n",
       "      <td>0.0485</td>\n",
       "      <td>0.070</td>\n",
       "      <td>7</td>\n",
       "    </tr>\n",
       "    <tr>\n",
       "      <th>2</th>\n",
       "      <td>F</td>\n",
       "      <td>0.530</td>\n",
       "      <td>0.420</td>\n",
       "      <td>0.135</td>\n",
       "      <td>0.6770</td>\n",
       "      <td>0.2565</td>\n",
       "      <td>0.1415</td>\n",
       "      <td>0.210</td>\n",
       "      <td>9</td>\n",
       "    </tr>\n",
       "    <tr>\n",
       "      <th>3</th>\n",
       "      <td>M</td>\n",
       "      <td>0.440</td>\n",
       "      <td>0.365</td>\n",
       "      <td>0.125</td>\n",
       "      <td>0.5160</td>\n",
       "      <td>0.2155</td>\n",
       "      <td>0.1140</td>\n",
       "      <td>0.155</td>\n",
       "      <td>10</td>\n",
       "    </tr>\n",
       "    <tr>\n",
       "      <th>4</th>\n",
       "      <td>I</td>\n",
       "      <td>0.330</td>\n",
       "      <td>0.255</td>\n",
       "      <td>0.080</td>\n",
       "      <td>0.2050</td>\n",
       "      <td>0.0895</td>\n",
       "      <td>0.0395</td>\n",
       "      <td>0.055</td>\n",
       "      <td>7</td>\n",
       "    </tr>\n",
       "  </tbody>\n",
       "</table>\n",
       "</div>"
      ],
      "text/plain": [
       "  Sex  Length  Diameter  Height  Whole weight  Shucked weight  Viscera weight  \\\n",
       "0   M   0.455     0.365   0.095        0.5140          0.2245          0.1010   \n",
       "1   M   0.350     0.265   0.090        0.2255          0.0995          0.0485   \n",
       "2   F   0.530     0.420   0.135        0.6770          0.2565          0.1415   \n",
       "3   M   0.440     0.365   0.125        0.5160          0.2155          0.1140   \n",
       "4   I   0.330     0.255   0.080        0.2050          0.0895          0.0395   \n",
       "\n",
       "   Shell weight  Rings  \n",
       "0         0.150     15  \n",
       "1         0.070      7  \n",
       "2         0.210      9  \n",
       "3         0.155     10  \n",
       "4         0.055      7  "
      ]
     },
     "execution_count": 1,
     "metadata": {},
     "output_type": "execute_result"
    }
   ],
   "source": [
    "import pandas as pd #data analysis library\n",
    "import matplotlib.pyplot as plt #graphing\n",
    "import seaborn as sns #graphing\n",
    "import sklearn\n",
    "from sklearn.model_selection import train_test_split\n",
    "import numpy as np\n",
    "from sklearn.linear_model import SGDClassifier\n",
    "from sklearn.metrics import classification_report\n",
    "\n",
    "print(\"For this assignment we used the Abalone data set from the UCI Machine Learning Repository.\\nhttps://archive.ics.uci.edu/ml/datasets/Abalone\")\n",
    "print(\"Our data set contains 9 features consisting of 8 quantitative features and 1 categorical feature (sex)\")\n",
    "df = pd.read_csv(\"Abalone.csv\") #read in data\n",
    "df.head()"
   ]
  },
  {
   "cell_type": "code",
   "execution_count": 2,
   "metadata": {},
   "outputs": [
    {
     "name": "stdout",
     "output_type": "stream",
     "text": [
      "We note that the sex column contains a third (intersex) class, so we eliminate rows of that class.\n"
     ]
    },
    {
     "data": {
      "text/html": [
       "<div>\n",
       "<style scoped>\n",
       "    .dataframe tbody tr th:only-of-type {\n",
       "        vertical-align: middle;\n",
       "    }\n",
       "\n",
       "    .dataframe tbody tr th {\n",
       "        vertical-align: top;\n",
       "    }\n",
       "\n",
       "    .dataframe thead th {\n",
       "        text-align: right;\n",
       "    }\n",
       "</style>\n",
       "<table border=\"1\" class=\"dataframe\">\n",
       "  <thead>\n",
       "    <tr style=\"text-align: right;\">\n",
       "      <th></th>\n",
       "      <th>Sex</th>\n",
       "      <th>Length</th>\n",
       "      <th>Diameter</th>\n",
       "      <th>Height</th>\n",
       "      <th>Whole weight</th>\n",
       "      <th>Shucked weight</th>\n",
       "      <th>Viscera weight</th>\n",
       "      <th>Shell weight</th>\n",
       "      <th>Rings</th>\n",
       "    </tr>\n",
       "  </thead>\n",
       "  <tbody>\n",
       "    <tr>\n",
       "      <th>0</th>\n",
       "      <td>M</td>\n",
       "      <td>0.455</td>\n",
       "      <td>0.365</td>\n",
       "      <td>0.095</td>\n",
       "      <td>0.5140</td>\n",
       "      <td>0.2245</td>\n",
       "      <td>0.1010</td>\n",
       "      <td>0.150</td>\n",
       "      <td>15</td>\n",
       "    </tr>\n",
       "    <tr>\n",
       "      <th>1</th>\n",
       "      <td>M</td>\n",
       "      <td>0.350</td>\n",
       "      <td>0.265</td>\n",
       "      <td>0.090</td>\n",
       "      <td>0.2255</td>\n",
       "      <td>0.0995</td>\n",
       "      <td>0.0485</td>\n",
       "      <td>0.070</td>\n",
       "      <td>7</td>\n",
       "    </tr>\n",
       "    <tr>\n",
       "      <th>2</th>\n",
       "      <td>F</td>\n",
       "      <td>0.530</td>\n",
       "      <td>0.420</td>\n",
       "      <td>0.135</td>\n",
       "      <td>0.6770</td>\n",
       "      <td>0.2565</td>\n",
       "      <td>0.1415</td>\n",
       "      <td>0.210</td>\n",
       "      <td>9</td>\n",
       "    </tr>\n",
       "    <tr>\n",
       "      <th>3</th>\n",
       "      <td>M</td>\n",
       "      <td>0.440</td>\n",
       "      <td>0.365</td>\n",
       "      <td>0.125</td>\n",
       "      <td>0.5160</td>\n",
       "      <td>0.2155</td>\n",
       "      <td>0.1140</td>\n",
       "      <td>0.155</td>\n",
       "      <td>10</td>\n",
       "    </tr>\n",
       "    <tr>\n",
       "      <th>6</th>\n",
       "      <td>F</td>\n",
       "      <td>0.530</td>\n",
       "      <td>0.415</td>\n",
       "      <td>0.150</td>\n",
       "      <td>0.7775</td>\n",
       "      <td>0.2370</td>\n",
       "      <td>0.1415</td>\n",
       "      <td>0.330</td>\n",
       "      <td>20</td>\n",
       "    </tr>\n",
       "  </tbody>\n",
       "</table>\n",
       "</div>"
      ],
      "text/plain": [
       "  Sex  Length  Diameter  Height  Whole weight  Shucked weight  Viscera weight  \\\n",
       "0   M   0.455     0.365   0.095        0.5140          0.2245          0.1010   \n",
       "1   M   0.350     0.265   0.090        0.2255          0.0995          0.0485   \n",
       "2   F   0.530     0.420   0.135        0.6770          0.2565          0.1415   \n",
       "3   M   0.440     0.365   0.125        0.5160          0.2155          0.1140   \n",
       "6   F   0.530     0.415   0.150        0.7775          0.2370          0.1415   \n",
       "\n",
       "   Shell weight  Rings  \n",
       "0         0.150     15  \n",
       "1         0.070      7  \n",
       "2         0.210      9  \n",
       "3         0.155     10  \n",
       "6         0.330     20  "
      ]
     },
     "execution_count": 2,
     "metadata": {},
     "output_type": "execute_result"
    }
   ],
   "source": [
    "#preprocessing\n",
    "print(\"We note that the sex column contains a third (intersex) class, so we eliminate rows of that class.\")\n",
    "df = df[df.Sex != 'I']\n",
    "df.head()"
   ]
  },
  {
   "cell_type": "code",
   "execution_count": 3,
   "metadata": {},
   "outputs": [
    {
     "name": "stdout",
     "output_type": "stream",
     "text": [
      "      Length  Diameter  Height  Whole weight  Shucked weight  Viscera weight  \\\n",
      "0      0.455     0.365   0.095        0.5140          0.2245          0.1010   \n",
      "1      0.350     0.265   0.090        0.2255          0.0995          0.0485   \n",
      "2      0.530     0.420   0.135        0.6770          0.2565          0.1415   \n",
      "3      0.440     0.365   0.125        0.5160          0.2155          0.1140   \n",
      "6      0.530     0.415   0.150        0.7775          0.2370          0.1415   \n",
      "...      ...       ...     ...           ...             ...             ...   \n",
      "4172   0.565     0.450   0.165        0.8870          0.3700          0.2390   \n",
      "4173   0.590     0.440   0.135        0.9660          0.4390          0.2145   \n",
      "4174   0.600     0.475   0.205        1.1760          0.5255          0.2875   \n",
      "4175   0.625     0.485   0.150        1.0945          0.5310          0.2610   \n",
      "4176   0.710     0.555   0.195        1.9485          0.9455          0.3765   \n",
      "\n",
      "      Shell weight  Rings  \n",
      "0           0.1500     15  \n",
      "1           0.0700      7  \n",
      "2           0.2100      9  \n",
      "3           0.1550     10  \n",
      "6           0.3300     20  \n",
      "...            ...    ...  \n",
      "4172        0.2490     11  \n",
      "4173        0.2605     10  \n",
      "4174        0.3080      9  \n",
      "4175        0.2960     10  \n",
      "4176        0.4950     12  \n",
      "\n",
      "[2835 rows x 8 columns]\n"
     ]
    }
   ],
   "source": [
    "#set independent and dependent variables\n",
    "x = df.iloc[:,1:9] #all entries from column 1 to 3\n",
    "leng = df.iloc[:,1]\n",
    "dim = df.iloc[:,2]\n",
    "rin = df.iloc[:,3]\n",
    "print(x)\n"
   ]
  },
  {
   "cell_type": "code",
   "execution_count": 4,
   "metadata": {},
   "outputs": [
    {
     "name": "stdout",
     "output_type": "stream",
     "text": [
      "0       M\n",
      "1       M\n",
      "2       F\n",
      "3       M\n",
      "6       F\n",
      "       ..\n",
      "4172    F\n",
      "4173    M\n",
      "4174    M\n",
      "4175    F\n",
      "4176    M\n",
      "Name: Sex, Length: 2835, dtype: object\n"
     ]
    }
   ],
   "source": [
    "y = df.iloc[:,0]\n",
    "print(y)"
   ]
  },
  {
   "cell_type": "code",
   "execution_count": 5,
   "metadata": {},
   "outputs": [],
   "source": [
    "#train test split\n",
    "x_train, x_test, y_train, y_test = train_test_split(x,y, test_size = 0.2, random_state = 0) #20% testing\n",
    "\n",
    "from sklearn.preprocessing import StandardScaler\n",
    "scaler = StandardScaler()\n",
    "scaler.fit(x_train) \n",
    "x_train = scaler.transform(x_train)\n",
    "x_test = scaler.transform(x_test)  # apply same transformation to test data"
   ]
  },
  {
   "cell_type": "code",
   "execution_count": 6,
   "metadata": {},
   "outputs": [
    {
     "data": {
      "text/plain": [
       "SGDClassifier(max_iter=100000)"
      ]
     },
     "execution_count": 6,
     "metadata": {},
     "output_type": "execute_result"
    }
   ],
   "source": [
    "\n",
    "clf = SGDClassifier(loss=\"log\", penalty=\"l1\", max_iter=100, alpha = .01, tol = .0001)\n",
    "clf.fit(x_train, y_train)\n",
    "SGDClassifier(max_iter=100000)"
   ]
  },
  {
   "cell_type": "code",
   "execution_count": 7,
   "metadata": {},
   "outputs": [
    {
     "data": {
      "text/plain": [
       "array(['F', 'M', 'M', 'F', 'M', 'M', 'M', 'M', 'M', 'M', 'F', 'M', 'F',\n",
       "       'M', 'M', 'M', 'M', 'M', 'M', 'M', 'M', 'M', 'M', 'F', 'M', 'M',\n",
       "       'M', 'M', 'F', 'M', 'M', 'M', 'M', 'M', 'M', 'M', 'M', 'M', 'M',\n",
       "       'M', 'M', 'F', 'M', 'F', 'M', 'M', 'M', 'M', 'M', 'M', 'M', 'M',\n",
       "       'M', 'M', 'F', 'F', 'M', 'F', 'M', 'F', 'M', 'M', 'M', 'M', 'M',\n",
       "       'M', 'M', 'M', 'F', 'M', 'F', 'F', 'F', 'F', 'M', 'M', 'M', 'M',\n",
       "       'F', 'F', 'M', 'M', 'M', 'F', 'M', 'M', 'M', 'M', 'M', 'M', 'M',\n",
       "       'F', 'M', 'M', 'M', 'M', 'M', 'F', 'M', 'F', 'F', 'M', 'F', 'M',\n",
       "       'M', 'M', 'M', 'M', 'F', 'F', 'M', 'M', 'M', 'M', 'M', 'M', 'F',\n",
       "       'M', 'M', 'M', 'M', 'M', 'M', 'M', 'F', 'M', 'M', 'M', 'M', 'M',\n",
       "       'M', 'M', 'M', 'M', 'M', 'F', 'M', 'M', 'M', 'F', 'M', 'M', 'M',\n",
       "       'M', 'M', 'F', 'M', 'F', 'M', 'M', 'F', 'M', 'M', 'M', 'F', 'M',\n",
       "       'F', 'M', 'M', 'M', 'F', 'M', 'M', 'F', 'M', 'M', 'M', 'M', 'F',\n",
       "       'M', 'M', 'M', 'F', 'M', 'F', 'M', 'M', 'F', 'M', 'M', 'F', 'M',\n",
       "       'M', 'M', 'M', 'M', 'M', 'F', 'M', 'M', 'M', 'M', 'M', 'M', 'M',\n",
       "       'M', 'M', 'F', 'M', 'M', 'M', 'M', 'F', 'M', 'M', 'F', 'M', 'F',\n",
       "       'M', 'F', 'F', 'M', 'M', 'M', 'M', 'M', 'M', 'F', 'M', 'M', 'M',\n",
       "       'F', 'M', 'F', 'M', 'M', 'M', 'M', 'M', 'M', 'M', 'F', 'M', 'M',\n",
       "       'M', 'M', 'F', 'M', 'M', 'M', 'M', 'M', 'F', 'M', 'M', 'M', 'M',\n",
       "       'M', 'M', 'F', 'M', 'M', 'M', 'M', 'M', 'M', 'M', 'M', 'F', 'M',\n",
       "       'F', 'M', 'M', 'F', 'M', 'M', 'M', 'M', 'M', 'M', 'M', 'M', 'F',\n",
       "       'M', 'M', 'M', 'M', 'M', 'M', 'M', 'M', 'M', 'M', 'M', 'M', 'M',\n",
       "       'M', 'F', 'M', 'M', 'M', 'F', 'M', 'M', 'M', 'M', 'M', 'M', 'M',\n",
       "       'M', 'M', 'M', 'M', 'M', 'M', 'M', 'M', 'M', 'M', 'M', 'M', 'F',\n",
       "       'M', 'M', 'M', 'M', 'F', 'M', 'M', 'M', 'M', 'M', 'M', 'M', 'M',\n",
       "       'F', 'M', 'M', 'M', 'M', 'M', 'M', 'M', 'F', 'M', 'M', 'F', 'M',\n",
       "       'F', 'F', 'F', 'F', 'M', 'M', 'M', 'M', 'M', 'M', 'M', 'M', 'M',\n",
       "       'M', 'M', 'M', 'M', 'F', 'M', 'M', 'M', 'M', 'M', 'M', 'F', 'M',\n",
       "       'M', 'F', 'F', 'M', 'M', 'M', 'F', 'M', 'M', 'M', 'M', 'M', 'M',\n",
       "       'M', 'M', 'M', 'M', 'M', 'M', 'M', 'F', 'M', 'M', 'M', 'M', 'M',\n",
       "       'F', 'M', 'M', 'M', 'M', 'M', 'M', 'M', 'M', 'M', 'M', 'M', 'M',\n",
       "       'M', 'M', 'M', 'M', 'M', 'M', 'M', 'M', 'M', 'F', 'F', 'M', 'M',\n",
       "       'M', 'F', 'F', 'M', 'F', 'F', 'M', 'M', 'M', 'M', 'M', 'M', 'M',\n",
       "       'M', 'M', 'M', 'M', 'F', 'M', 'F', 'F', 'F', 'M', 'M', 'M', 'M',\n",
       "       'F', 'M', 'M', 'M', 'M', 'M', 'F', 'F', 'M', 'F', 'M', 'M', 'M',\n",
       "       'M', 'M', 'M', 'F', 'M', 'M', 'M', 'F', 'M', 'M', 'M', 'M', 'M',\n",
       "       'M', 'M', 'M', 'M', 'M', 'M', 'M', 'M', 'M', 'F', 'M', 'M', 'M',\n",
       "       'M', 'F', 'F', 'M', 'M', 'M', 'M', 'M', 'M', 'M', 'F', 'M', 'M',\n",
       "       'M', 'M', 'M', 'M', 'F', 'M', 'M', 'M', 'M', 'M', 'F', 'M', 'M',\n",
       "       'M', 'M', 'F', 'M', 'M', 'M', 'M', 'M', 'M', 'M', 'F', 'M', 'M',\n",
       "       'M', 'M', 'M', 'M', 'F', 'F', 'M', 'M', 'M', 'M', 'M', 'M', 'M',\n",
       "       'F', 'M', 'M', 'M', 'M', 'M', 'F', 'M', 'M', 'M', 'M', 'M', 'M',\n",
       "       'M', 'F', 'M', 'F', 'M', 'M', 'M', 'M', 'M', 'M', 'M', 'M', 'M',\n",
       "       'M', 'F', 'M', 'M', 'F', 'F', 'M', 'M'], dtype='<U1')"
      ]
     },
     "execution_count": 7,
     "metadata": {},
     "output_type": "execute_result"
    }
   ],
   "source": [
    "clf.predict(x_test)"
   ]
  },
  {
   "cell_type": "code",
   "execution_count": 8,
   "metadata": {},
   "outputs": [
    {
     "name": "stdout",
     "output_type": "stream",
     "text": [
      "Training score:  0.54673721340388\n"
     ]
    }
   ],
   "source": [
    "score = clf.score(x_test, y_test)\n",
    "print(\"Training score: \", score) "
   ]
  },
  {
   "cell_type": "code",
   "execution_count": 21,
   "metadata": {},
   "outputs": [
    {
     "name": "stdout",
     "output_type": "stream",
     "text": [
      "[[-2.72222598  0.          0.          0.          0.          0.\n",
      "   0.          0.        ]]\n",
      "Intercept:  [-1.18184858]\n",
      "Iterations to Converge =  35\n",
      "Solution = w =  0.18529409  -  0.30473596 *x2 -  0.08525884 *x3 +  0.1772645 *x5\n"
     ]
    }
   ],
   "source": [
    "print(clf.coef_)\n",
    "print(\"Intercept: \", clf.intercept_)\n",
    "print(\"Iterations to Converge = \", clf.n_iter_)\n",
    "print(\"Solution = w = \", 0.18529409, \" - \", 0.30473596, \"*x2 - \", 0.08525884,\"*x3 + \", 0.1772645, \"*x5\" )"
   ]
  },
  {
   "cell_type": "code",
   "execution_count": 16,
   "metadata": {},
   "outputs": [
    {
     "name": "stdout",
     "output_type": "stream",
     "text": [
      "[[559 477]\n",
      " [584 648]]\n"
     ]
    }
   ],
   "source": [
    "ypred = clf.predict(x_train)\n",
    "\n",
    "#confusion matrix\n",
    "cm = sklearn.metrics.confusion_matrix(y_train, ypred)\n",
    "tn, fp, fn, tp = cm.ravel()\n",
    "print(cm) "
   ]
  },
  {
   "cell_type": "code",
   "execution_count": 17,
   "metadata": {},
   "outputs": [
    {
     "name": "stdout",
     "output_type": "stream",
     "text": [
      "Evaluation Metrics for Training Set: \n",
      "              precision    recall  f1-score   support\n",
      "\n",
      "           F       0.49      0.54      0.51      1036\n",
      "           M       0.58      0.53      0.55      1232\n",
      "\n",
      "    accuracy                           0.53      2268\n",
      "   macro avg       0.53      0.53      0.53      2268\n",
      "weighted avg       0.54      0.53      0.53      2268\n",
      "\n",
      "Misclassification Rate =  0.4678130511463845\n",
      "Learning Rate =  0.01\n"
     ]
    }
   ],
   "source": [
    "print(\"Evaluation Metrics for Training Set: \")\n",
    "cr = classification_report(y_train, ypred)\n",
    "print(cr) \n",
    "print(\"Misclassification Rate = \", (fp + fn)/ (tp + tn + fp + fn))\n",
    "print(\"Learning Rate = \", .01)"
   ]
  },
  {
   "cell_type": "code",
   "execution_count": 18,
   "metadata": {},
   "outputs": [
    {
     "name": "stdout",
     "output_type": "stream",
     "text": [
      "[[133 138]\n",
      " [150 146]]\n",
      "Evaluation Metrics for Test Set: \n",
      "              precision    recall  f1-score   support\n",
      "\n",
      "           F       0.47      0.49      0.48       271\n",
      "           M       0.51      0.49      0.50       296\n",
      "\n",
      "    accuracy                           0.49       567\n",
      "   macro avg       0.49      0.49      0.49       567\n",
      "weighted avg       0.49      0.49      0.49       567\n",
      "\n",
      "Misclassification Rate =  0.5079365079365079\n",
      "Learning Rate =  0.01\n"
     ]
    }
   ],
   "source": [
    "#confusion matrix\n",
    "ypred = clf.predict(x_test)\n",
    "cm = sklearn.metrics.confusion_matrix(y_test, ypred)\n",
    "tn, fp, fn, tp = cm.ravel()\n",
    "print(cm) \n",
    "\n",
    "print(\"Evaluation Metrics for Test Set: \")\n",
    "\n",
    "cr = classification_report(y_test, ypred)\n",
    "print(cr) \n",
    "print(\"Misclassification Rate = \", (fp + fn)/ (tp + tn + fp + fn))\n",
    "print(\"Learning Rate = \", .01)"
   ]
  },
  {
   "cell_type": "code",
   "execution_count": 19,
   "metadata": {},
   "outputs": [],
   "source": [
    "#Iterations with varying Learning Rates / Tolerances\n"
   ]
  },
  {
   "cell_type": "code",
   "execution_count": 20,
   "metadata": {},
   "outputs": [
    {
     "name": "stdout",
     "output_type": "stream",
     "text": [
      "Training score:  0.5044091710758377\n",
      "Coefficients:  [[-2.72222598  0.          0.          0.          0.          0.\n",
      "   0.          0.        ]]\n",
      "Intercepts:  [-1.18184858]\n",
      "Iterations to Converge =  35\n",
      "Learning Rate =  0.01\n",
      "\n",
      "Training Set:\n",
      "Confusion Matrix:\n",
      "[[767 269]\n",
      " [845 387]]\n",
      "Evaluation Metrics for Training Set: \n",
      "              precision    recall  f1-score   support\n",
      "\n",
      "           F       0.48      0.74      0.58      1036\n",
      "           M       0.59      0.31      0.41      1232\n",
      "\n",
      "    accuracy                           0.51      2268\n",
      "   macro avg       0.53      0.53      0.49      2268\n",
      "weighted avg       0.54      0.51      0.49      2268\n",
      "\n",
      "Misclassification Rate =  0.4911816578483245\n",
      "\n",
      "Test Set:\n",
      "Confusion Matrix:\n",
      "[[197  74]\n",
      " [207  89]]\n",
      "Evaluation Metrics for Test Set: \n",
      "              precision    recall  f1-score   support\n",
      "\n",
      "           F       0.49      0.73      0.58       271\n",
      "           M       0.55      0.30      0.39       296\n",
      "\n",
      "    accuracy                           0.50       567\n",
      "   macro avg       0.52      0.51      0.49       567\n",
      "weighted avg       0.52      0.50      0.48       567\n",
      "\n",
      "Misclassification Rate =  0.49559082892416223\n"
     ]
    }
   ],
   "source": [
    "clf = SGDClassifier(loss=\"log\", penalty=\"l1\", max_iter=100000, alpha = .00001, tol = .001)\n",
    "clf.fit(x_train, y_train)\n",
    "\n",
    "SGDClassifier(max_iter=100000)\n",
    "\n",
    "clf.predict(x_test)\n",
    "score = clf.score(x_test, y_test)\n",
    "print(\"Training score: \", score) \n",
    "print(\"Coefficients: \", clf.coef_)\n",
    "print(\"Intercepts: \", clf.intercept_)\n",
    "print(\"Iterations to Converge = \", clf.n_iter_)\n",
    "print(\"Learning Rate = \", .01)\n",
    "\n",
    "print(\"\\nTraining Set:\")\n",
    "#training set\n",
    "ypred = clf.predict(x_train)\n",
    "#confusion matrix\n",
    "cm = sklearn.metrics.confusion_matrix(y_train, ypred)\n",
    "tn, fp, fn, tp = cm.ravel()\n",
    "print(\"Confusion Matrix:\")\n",
    "print(cm)\n",
    "\n",
    "\n",
    "print(\"Evaluation Metrics for Training Set: \")\n",
    "cr = classification_report(y_train, ypred)\n",
    "print(cr) \n",
    "print(\"Misclassification Rate = \", (fp + fn)/ (tp + tn + fp + fn))\n",
    "\n",
    "\n",
    "#test set\n",
    "#confusion matrix\n",
    "print(\"\\nTest Set:\")\n",
    "ypred = clf.predict(x_test)\n",
    "cm = sklearn.metrics.confusion_matrix(y_test, ypred)\n",
    "tn, fp, fn, tp = cm.ravel()\n",
    "print(\"Confusion Matrix:\")\n",
    "print(cm) \n",
    "\n",
    "print(\"Evaluation Metrics for Test Set: \")\n",
    "\n",
    "cr = classification_report(y_test, ypred)\n",
    "print(cr) \n",
    "print(\"Misclassification Rate = \", (fp + fn)/ (tp + tn + fp + fn))"
   ]
  },
  {
   "cell_type": "code",
   "execution_count": 15,
   "metadata": {},
   "outputs": [],
   "source": [
    "#Findings: making the alpha larger caused the program to converge quicker\n",
    "#Making the tolerance smaller seemd to improve accuracy but making it too small would cause it to never converge"
   ]
  },
  {
   "cell_type": "code",
   "execution_count": null,
   "metadata": {},
   "outputs": [],
   "source": []
  },
  {
   "cell_type": "code",
   "execution_count": null,
   "metadata": {},
   "outputs": [],
   "source": []
  }
 ],
 "metadata": {
  "kernelspec": {
   "display_name": "Python 3",
   "language": "python",
   "name": "python3"
  },
  "language_info": {
   "codemirror_mode": {
    "name": "ipython",
    "version": 3
   },
   "file_extension": ".py",
   "mimetype": "text/x-python",
   "name": "python",
   "nbconvert_exporter": "python",
   "pygments_lexer": "ipython3",
   "version": "3.8.3"
  }
 },
 "nbformat": 4,
 "nbformat_minor": 4
}
