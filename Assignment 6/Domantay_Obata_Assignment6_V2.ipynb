{
 "cells": [
  {
   "cell_type": "markdown",
   "metadata": {},
   "source": [
    "# Assignment 6: Multi-layer Perceptron Classifier\n",
    "For this assignment we used the Pokemon data set from the kaggle repository\n",
    "\n",
    "https://www.kaggle.com/abcsds/pokemon\n",
    "\n",
    "Our data set contains 13 features consisting of 8 quantitative features:\n",
    "\n",
    "Encyclopedia number\n",
    "Sum of all Stats\n",
    "Hit Points\n",
    "Attack\n",
    "Defense\n",
    "Special Attack\n",
    "Special Defense\n",
    "Speed\n",
    "and 5 categorical features (sex)\n",
    "\n",
    "Name\n",
    "Type 1\n",
    "Type 2\n",
    "Generation\n",
    "Legendary\n",
    "\n",
    "For the purposes of this assignment we only used"
   ]
  },
  {
   "cell_type": "code",
   "execution_count": 11,
   "metadata": {},
   "outputs": [],
   "source": [
    "import pandas as pd #data analysis library\n",
    "import matplotlib.pyplot as plt #graphing\n",
    "import seaborn as sns #graphing\n",
    "import sklearn\n",
    "from sklearn.model_selection import train_test_split\n",
    "import numpy as np\n",
    "from sklearn.neural_network import MLPRegressor"
   ]
  },
  {
   "cell_type": "code",
   "execution_count": 2,
   "metadata": {},
   "outputs": [
    {
     "data": {
      "text/html": [
       "<div>\n",
       "<style scoped>\n",
       "    .dataframe tbody tr th:only-of-type {\n",
       "        vertical-align: middle;\n",
       "    }\n",
       "\n",
       "    .dataframe tbody tr th {\n",
       "        vertical-align: top;\n",
       "    }\n",
       "\n",
       "    .dataframe thead th {\n",
       "        text-align: right;\n",
       "    }\n",
       "</style>\n",
       "<table border=\"1\" class=\"dataframe\">\n",
       "  <thead>\n",
       "    <tr style=\"text-align: right;\">\n",
       "      <th></th>\n",
       "      <th>#</th>\n",
       "      <th>Name</th>\n",
       "      <th>Type 1</th>\n",
       "      <th>Type 2</th>\n",
       "      <th>Total</th>\n",
       "      <th>HP</th>\n",
       "      <th>Attack</th>\n",
       "      <th>Defense</th>\n",
       "      <th>Sp. Atk</th>\n",
       "      <th>Sp. Def</th>\n",
       "      <th>Speed</th>\n",
       "      <th>Generation</th>\n",
       "      <th>Legendary</th>\n",
       "    </tr>\n",
       "  </thead>\n",
       "  <tbody>\n",
       "    <tr>\n",
       "      <th>0</th>\n",
       "      <td>1</td>\n",
       "      <td>Bulbasaur</td>\n",
       "      <td>Grass</td>\n",
       "      <td>Poison</td>\n",
       "      <td>318</td>\n",
       "      <td>45</td>\n",
       "      <td>49</td>\n",
       "      <td>49</td>\n",
       "      <td>65</td>\n",
       "      <td>65</td>\n",
       "      <td>45</td>\n",
       "      <td>1</td>\n",
       "      <td>False</td>\n",
       "    </tr>\n",
       "    <tr>\n",
       "      <th>1</th>\n",
       "      <td>2</td>\n",
       "      <td>Ivysaur</td>\n",
       "      <td>Grass</td>\n",
       "      <td>Poison</td>\n",
       "      <td>405</td>\n",
       "      <td>60</td>\n",
       "      <td>62</td>\n",
       "      <td>63</td>\n",
       "      <td>80</td>\n",
       "      <td>80</td>\n",
       "      <td>60</td>\n",
       "      <td>1</td>\n",
       "      <td>False</td>\n",
       "    </tr>\n",
       "    <tr>\n",
       "      <th>2</th>\n",
       "      <td>3</td>\n",
       "      <td>Venusaur</td>\n",
       "      <td>Grass</td>\n",
       "      <td>Poison</td>\n",
       "      <td>525</td>\n",
       "      <td>80</td>\n",
       "      <td>82</td>\n",
       "      <td>83</td>\n",
       "      <td>100</td>\n",
       "      <td>100</td>\n",
       "      <td>80</td>\n",
       "      <td>1</td>\n",
       "      <td>False</td>\n",
       "    </tr>\n",
       "    <tr>\n",
       "      <th>3</th>\n",
       "      <td>3</td>\n",
       "      <td>VenusaurMega Venusaur</td>\n",
       "      <td>Grass</td>\n",
       "      <td>Poison</td>\n",
       "      <td>625</td>\n",
       "      <td>80</td>\n",
       "      <td>100</td>\n",
       "      <td>123</td>\n",
       "      <td>122</td>\n",
       "      <td>120</td>\n",
       "      <td>80</td>\n",
       "      <td>1</td>\n",
       "      <td>False</td>\n",
       "    </tr>\n",
       "    <tr>\n",
       "      <th>4</th>\n",
       "      <td>4</td>\n",
       "      <td>Charmander</td>\n",
       "      <td>Fire</td>\n",
       "      <td>NaN</td>\n",
       "      <td>309</td>\n",
       "      <td>39</td>\n",
       "      <td>52</td>\n",
       "      <td>43</td>\n",
       "      <td>60</td>\n",
       "      <td>50</td>\n",
       "      <td>65</td>\n",
       "      <td>1</td>\n",
       "      <td>False</td>\n",
       "    </tr>\n",
       "  </tbody>\n",
       "</table>\n",
       "</div>"
      ],
      "text/plain": [
       "   #                   Name Type 1  Type 2  Total  HP  Attack  Defense  \\\n",
       "0  1              Bulbasaur  Grass  Poison    318  45      49       49   \n",
       "1  2                Ivysaur  Grass  Poison    405  60      62       63   \n",
       "2  3               Venusaur  Grass  Poison    525  80      82       83   \n",
       "3  3  VenusaurMega Venusaur  Grass  Poison    625  80     100      123   \n",
       "4  4             Charmander   Fire     NaN    309  39      52       43   \n",
       "\n",
       "   Sp. Atk  Sp. Def  Speed  Generation  Legendary  \n",
       "0       65       65     45           1      False  \n",
       "1       80       80     60           1      False  \n",
       "2      100      100     80           1      False  \n",
       "3      122      120     80           1      False  \n",
       "4       60       50     65           1      False  "
      ]
     },
     "execution_count": 2,
     "metadata": {},
     "output_type": "execute_result"
    }
   ],
   "source": [
    "df = pd.read_csv(\"Pokemon.csv\") #read in data\n",
    "df.head()"
   ]
  },
  {
   "cell_type": "markdown",
   "metadata": {},
   "source": [
    "## Data Preprocessing\n",
    "For the purposes of this assignment, we eliminate the following features:\n",
    "\n",
    "   * #\n",
    "   * Name\n",
    "   * Type 1\n",
    "   * Type 2\n",
    "   * Total\n",
    "   * Sp. Atk\n",
    "   * Sp. Def\n",
    "   * Generation\n",
    "   * Legendary"
   ]
  },
  {
   "cell_type": "code",
   "execution_count": 3,
   "metadata": {},
   "outputs": [
    {
     "data": {
      "text/html": [
       "<div>\n",
       "<style scoped>\n",
       "    .dataframe tbody tr th:only-of-type {\n",
       "        vertical-align: middle;\n",
       "    }\n",
       "\n",
       "    .dataframe tbody tr th {\n",
       "        vertical-align: top;\n",
       "    }\n",
       "\n",
       "    .dataframe thead th {\n",
       "        text-align: right;\n",
       "    }\n",
       "</style>\n",
       "<table border=\"1\" class=\"dataframe\">\n",
       "  <thead>\n",
       "    <tr style=\"text-align: right;\">\n",
       "      <th></th>\n",
       "      <th>HP</th>\n",
       "      <th>Attack</th>\n",
       "      <th>Defense</th>\n",
       "      <th>Speed</th>\n",
       "    </tr>\n",
       "  </thead>\n",
       "  <tbody>\n",
       "    <tr>\n",
       "      <th>0</th>\n",
       "      <td>45</td>\n",
       "      <td>49</td>\n",
       "      <td>49</td>\n",
       "      <td>45</td>\n",
       "    </tr>\n",
       "    <tr>\n",
       "      <th>1</th>\n",
       "      <td>60</td>\n",
       "      <td>62</td>\n",
       "      <td>63</td>\n",
       "      <td>60</td>\n",
       "    </tr>\n",
       "    <tr>\n",
       "      <th>2</th>\n",
       "      <td>80</td>\n",
       "      <td>82</td>\n",
       "      <td>83</td>\n",
       "      <td>80</td>\n",
       "    </tr>\n",
       "    <tr>\n",
       "      <th>3</th>\n",
       "      <td>80</td>\n",
       "      <td>100</td>\n",
       "      <td>123</td>\n",
       "      <td>80</td>\n",
       "    </tr>\n",
       "    <tr>\n",
       "      <th>4</th>\n",
       "      <td>39</td>\n",
       "      <td>52</td>\n",
       "      <td>43</td>\n",
       "      <td>65</td>\n",
       "    </tr>\n",
       "  </tbody>\n",
       "</table>\n",
       "</div>"
      ],
      "text/plain": [
       "   HP  Attack  Defense  Speed\n",
       "0  45      49       49     45\n",
       "1  60      62       63     60\n",
       "2  80      82       83     80\n",
       "3  80     100      123     80\n",
       "4  39      52       43     65"
      ]
     },
     "execution_count": 3,
     "metadata": {},
     "output_type": "execute_result"
    }
   ],
   "source": [
    "poke_stats = ['HP', \"Attack\", \"Defense\", \"Speed\"]\n",
    "df = df.drop(columns = ['#','Name', 'Type 1', 'Type 2', 'Total', 'Sp. Atk', 'Sp. Def', 'Generation', \"Legendary\"])\n",
    "df.head()"
   ]
  },
  {
   "cell_type": "code",
   "execution_count": 4,
   "metadata": {},
   "outputs": [
    {
     "data": {
      "text/html": [
       "<div>\n",
       "<style scoped>\n",
       "    .dataframe tbody tr th:only-of-type {\n",
       "        vertical-align: middle;\n",
       "    }\n",
       "\n",
       "    .dataframe tbody tr th {\n",
       "        vertical-align: top;\n",
       "    }\n",
       "\n",
       "    .dataframe thead th {\n",
       "        text-align: right;\n",
       "    }\n",
       "</style>\n",
       "<table border=\"1\" class=\"dataframe\">\n",
       "  <thead>\n",
       "    <tr style=\"text-align: right;\">\n",
       "      <th></th>\n",
       "      <th>Attack</th>\n",
       "      <th>Defense</th>\n",
       "      <th>Speed</th>\n",
       "    </tr>\n",
       "  </thead>\n",
       "  <tbody>\n",
       "    <tr>\n",
       "      <th>0</th>\n",
       "      <td>49</td>\n",
       "      <td>49</td>\n",
       "      <td>45</td>\n",
       "    </tr>\n",
       "    <tr>\n",
       "      <th>1</th>\n",
       "      <td>62</td>\n",
       "      <td>63</td>\n",
       "      <td>60</td>\n",
       "    </tr>\n",
       "    <tr>\n",
       "      <th>2</th>\n",
       "      <td>82</td>\n",
       "      <td>83</td>\n",
       "      <td>80</td>\n",
       "    </tr>\n",
       "    <tr>\n",
       "      <th>3</th>\n",
       "      <td>100</td>\n",
       "      <td>123</td>\n",
       "      <td>80</td>\n",
       "    </tr>\n",
       "    <tr>\n",
       "      <th>4</th>\n",
       "      <td>52</td>\n",
       "      <td>43</td>\n",
       "      <td>65</td>\n",
       "    </tr>\n",
       "    <tr>\n",
       "      <th>...</th>\n",
       "      <td>...</td>\n",
       "      <td>...</td>\n",
       "      <td>...</td>\n",
       "    </tr>\n",
       "    <tr>\n",
       "      <th>795</th>\n",
       "      <td>100</td>\n",
       "      <td>150</td>\n",
       "      <td>50</td>\n",
       "    </tr>\n",
       "    <tr>\n",
       "      <th>796</th>\n",
       "      <td>160</td>\n",
       "      <td>110</td>\n",
       "      <td>110</td>\n",
       "    </tr>\n",
       "    <tr>\n",
       "      <th>797</th>\n",
       "      <td>110</td>\n",
       "      <td>60</td>\n",
       "      <td>70</td>\n",
       "    </tr>\n",
       "    <tr>\n",
       "      <th>798</th>\n",
       "      <td>160</td>\n",
       "      <td>60</td>\n",
       "      <td>80</td>\n",
       "    </tr>\n",
       "    <tr>\n",
       "      <th>799</th>\n",
       "      <td>110</td>\n",
       "      <td>120</td>\n",
       "      <td>70</td>\n",
       "    </tr>\n",
       "  </tbody>\n",
       "</table>\n",
       "<p>800 rows × 3 columns</p>\n",
       "</div>"
      ],
      "text/plain": [
       "     Attack  Defense  Speed\n",
       "0        49       49     45\n",
       "1        62       63     60\n",
       "2        82       83     80\n",
       "3       100      123     80\n",
       "4        52       43     65\n",
       "..      ...      ...    ...\n",
       "795     100      150     50\n",
       "796     160      110    110\n",
       "797     110       60     70\n",
       "798     160       60     80\n",
       "799     110      120     70\n",
       "\n",
       "[800 rows x 3 columns]"
      ]
     },
     "execution_count": 4,
     "metadata": {},
     "output_type": "execute_result"
    }
   ],
   "source": [
    "#set independent and dependent variables\n",
    "x = df.iloc[:,1:9] #all entries from column 1 to 3\n",
    "leng = df.iloc[:,1]\n",
    "dim = df.iloc[:,2]\n",
    "rin = df.iloc[:,3]\n",
    "x"
   ]
  },
  {
   "cell_type": "code",
   "execution_count": 5,
   "metadata": {},
   "outputs": [
    {
     "name": "stdout",
     "output_type": "stream",
     "text": [
      "0      45\n",
      "1      60\n",
      "2      80\n",
      "3      80\n",
      "4      39\n",
      "       ..\n",
      "795    50\n",
      "796    50\n",
      "797    80\n",
      "798    80\n",
      "799    80\n",
      "Name: HP, Length: 800, dtype: int64\n"
     ]
    }
   ],
   "source": [
    "y = df.iloc[:,0]\n",
    "print(y)"
   ]
  },
  {
   "cell_type": "code",
   "execution_count": 6,
   "metadata": {},
   "outputs": [],
   "source": [
    "#train test split\n",
    "x_train, x_test, y_train, y_test = train_test_split(x,y, test_size = 0.2, random_state = 0) #20% testing\n",
    "\n",
    "from sklearn.preprocessing import StandardScaler\n",
    "scaler = StandardScaler()\n",
    "scaler.fit(x_train) \n",
    "x_train = scaler.transform(x_train)\n",
    "x_test = scaler.transform(x_test)  # apply same transformation to test data"
   ]
  },
  {
   "cell_type": "markdown",
   "metadata": {},
   "source": [
    "## Training with MLP Regressor"
   ]
  },
  {
   "cell_type": "code",
   "execution_count": 7,
   "metadata": {},
   "outputs": [
    {
     "name": "stdout",
     "output_type": "stream",
     "text": [
      "Parameters: \n",
      "Iterations:  300\n",
      "Learning Rate: 'constant'\n",
      "alpha:  0.0001\n",
      "Learning Rate Iniitialization:  0.001\n",
      "Tolerance:  0.0001\n",
      "Activation Function: 'relu'\n",
      "Number of Hidden Layers:  1\n",
      "Number of Neurons:  100\n"
     ]
    },
    {
     "name": "stderr",
     "output_type": "stream",
     "text": [
      "C:\\Users\\Dylan\\anaconda3\\lib\\site-packages\\sklearn\\neural_network\\_multilayer_perceptron.py:582: ConvergenceWarning: Stochastic Optimizer: Maximum iterations (300) reached and the optimization hasn't converged yet.\n",
      "  warnings.warn(\n"
     ]
    },
    {
     "data": {
      "text/plain": [
       "array([[1.80454469e-03, 1.53205839e-03, 1.60626349e-03, ...,\n",
       "        2.85740747e-04, 5.02183967e-03, 1.92181759e-04],\n",
       "       [4.02559726e-02, 5.86126392e-05, 1.08819592e-05, ...,\n",
       "        5.96435884e-02, 7.45649823e-05, 2.41567678e-05],\n",
       "       [5.57619600e-06, 1.35927944e-08, 2.16242294e-08, ...,\n",
       "        4.20348962e-06, 1.60309703e-07, 2.32439983e-08],\n",
       "       ...,\n",
       "       [2.80157333e-05, 1.94586708e-02, 6.29614332e-03, ...,\n",
       "        1.05845737e-05, 3.09333958e-03, 1.27530039e-03],\n",
       "       [1.78387309e-03, 1.97755372e-07, 3.61655221e-08, ...,\n",
       "        1.39486045e-03, 6.76748936e-07, 7.79922048e-08],\n",
       "       [5.25636458e-04, 1.72165319e-07, 2.01918189e-08, ...,\n",
       "        8.62575173e-05, 4.20604456e-07, 6.95568050e-08]])"
      ]
     },
     "execution_count": 7,
     "metadata": {},
     "output_type": "execute_result"
    }
   ],
   "source": [
    "#Train and fit data\n",
    "mlp_clf = MLPClassifier(random_state=1, max_iter=300).fit(x_train,y_train)\n",
    "\n",
    "print(\"Parameters: \")\n",
    "print(\"Iterations: \", mlp_clf.n_iter_)\n",
    "print(\"Learning Rate: 'constant'\")\n",
    "print(\"alpha: \", .0001)\n",
    "print (\"Learning Rate Iniitialization: \", .001)\n",
    "print (\"Tolerance: \", .0001)\n",
    "print(\"Activation Function: 'relu'\")\n",
    "print(\"Number of Hidden Layers: \", mlp_clf.n_layers_ - 2)\n",
    "print(\"Number of Neurons: \", 100)\n",
    "\n",
    "#probability estimates\n",
    "mlp_clf.predict_proba(x_train)"
   ]
  },
  {
   "cell_type": "code",
   "execution_count": 8,
   "metadata": {},
   "outputs": [
    {
     "data": {
      "text/plain": [
       "array([ 50,  60,  80,  60,  70,  65,  60,  50,  65,  65,  50,  60, 105,\n",
       "        65,  80, 100,  80,  60,  50,  60,  40,  50,  45,  50,  50, 100,\n",
       "        60,  70, 100,  50,  80,  45,  75,  60,  50,  60, 106,  60,  45,\n",
       "        60,  50,  45,  91, 100,  90,  60,  40,  80,  65,  60,  45,  40,\n",
       "       100,  50,  40,  50,  65,  40,  45,  60,  60,  80,  45,  45,  65,\n",
       "        60,  90,  45, 105,  45,  50,  90,  45,  60,  50,  80,  60,  70,\n",
       "        45,  40,  65, 100,  90,  65,  60,  45,  65,  60,  45,  50,  80,\n",
       "        40,  45,  70,  70,  65,  75,  80,  60,  65, 100,  45,  45, 100,\n",
       "       105,  50,  90, 160,  70,  45, 100,  45,  60,  45,  65, 100,  80,\n",
       "        65,  60,  60,  60, 100,  70,  50,  50, 100,  60,  60,  75,  60,\n",
       "        45,  80,  40,  50,  45,  75,  70,  90,  45,  60,  60,  60,  60,\n",
       "        45,  60,  45,  65,  50,  45,  60,  60,  50,  50,  80,  50, 100,\n",
       "        80,  65,  60,  40, 105,  70,  50,  50,  45,  50,  90,  80,  60,\n",
       "        20,  60,  45,  38,  45,  45,  75,  45, 100, 100,  40,  60,  50,\n",
       "        65,  70,  60,  60,  91,  40,  65,  65,  40,  60,  45,  45,  45,\n",
       "        60,  45,  65,  60,  65,  75,  45,  80,  85,  45,  85, 100,  65,\n",
       "        60,  50,  80,  45,  40,  60,  60,  60,  55,  45,  65,  60,  40,\n",
       "        50,  60,  70,  75, 100,  60,  50,  50,  45,  65,  65,  60,  80,\n",
       "        45,  50, 110,  70,  45,  40,  65,  60,  45,  40,  60,  50,  70,\n",
       "        60,  60,  60, 100,  60, 100,  60,  45,  50,  50,  75,  50,  65,\n",
       "        70,  60, 100,  70,  50,  70,  60,  40,  60, 100,  40,  65,  80,\n",
       "        75,  50,  50,  65,  65,  80,  60,  70,  40,  50,  60,  90,  60,\n",
       "        60,  65,  65,  60,  60,  45,  65,  60,  70,  60,  75,  70,  50,\n",
       "       106, 100,  70, 100,  45,  65,  45,  60,  65,  60,  60,  60,  60,\n",
       "        50, 100,  80, 108, 100,  50,  45,  50, 100,  80,  40,  50,  50,\n",
       "        45,  60,  90,  90,  60,  65,  50,  40,  60,  70,  50,  60, 110,\n",
       "        70,  60, 100,  70,  50,  65, 100,  70,  75,  75,  60,  65,  45,\n",
       "        45,  60, 106,  60,  70,  50,  45,  60,  50,  40,  60,  90, 100,\n",
       "        65,  45,  60,  40,  70,  85,  45,  40,  80,  70,  80,  50,  40,\n",
       "        90,  45,  70,  65,  40,  45,  75,  70,  50,  40,  45,  60,  40,\n",
       "        70,  50,  40,  50,  90,  60,  50,  65,  65,  38,  55,  60,  60,\n",
       "       100,  45,  60,  45,  60,  60,  60,  50, 100,  45, 105,  20, 100,\n",
       "        60,  50,  65, 108,  80,  50,  45,  40,  45,  75,  50,  65,  65,\n",
       "        45,  45,  90,  65,  80,  60, 100, 100,  50,  50,  45,  70,  45,\n",
       "       100, 100,  60,  70,  65, 100,  45,  60,  80,  40,  20,  60,  40,\n",
       "        65,  90,  50,  50,  50, 100,  70,  60,  60,  80,  70,  60,  50,\n",
       "        60, 250,  60,  80,  40,  60,  50,  60,  65,  50,  50, 100,  50,\n",
       "        80,  60,  70,  20,  91,  50,  50,  75,  80,  50,  60,  65,  70,\n",
       "        50,  91,  90,  60,  80,  60,  50,  40,  65,  65,  45,  40,  40,\n",
       "        91,  50,  70,  60,  60,  50,  70,  40, 100,  75,  50,  90,  60,\n",
       "        60,  60,  90,  50,  50,  90,  80,  40,  50,  50,  75,  75, 100,\n",
       "        60,  90,  70,  60,  60,  60,  40,  65, 105,  60,  60,  80,  20,\n",
       "        65,  60,  60,  50,  40,  45,  60,  45,  60,  80,  50,  45,  40,\n",
       "        60,  80,  70,  45,  40,  70,  40,  45,  45,  50,  60,  80,  50,\n",
       "        70,  50,  40, 144,  40,  90,  60,  40,  60,  50,  60,  60,  45,\n",
       "       100,  50,  70,  60,  45,  78,  50,  90,  90,  65,  60,  91, 100,\n",
       "       100,  50,  60,  50,  50, 100,  65,  70,  60,  45,  40,  45,  78,\n",
       "       105,  65,  90,  60,  50,  50,  91, 100,  50,  70,  70,  70,  50,\n",
       "        80,  50,  40,  60,  65,  50,  60,  60,  50,  60, 100,  60,  60,\n",
       "        60,  65,  90], dtype=int64)"
      ]
     },
     "execution_count": 8,
     "metadata": {},
     "output_type": "execute_result"
    }
   ],
   "source": [
    "ypred = mlp_clf.predict(x_train)\n",
    "ypred"
   ]
  },
  {
   "cell_type": "markdown",
   "metadata": {},
   "source": [
    "## Training Set Performance Metrics"
   ]
  },
  {
   "cell_type": "code",
   "execution_count": 9,
   "metadata": {},
   "outputs": [
    {
     "data": {
      "text/plain": [
       "0.19375"
      ]
     },
     "execution_count": 9,
     "metadata": {},
     "output_type": "execute_result"
    }
   ],
   "source": [
    "mlp_score = mlp_clf.score(x_train,y_train)\n",
    "mlp_score"
   ]
  },
  {
   "cell_type": "code",
   "execution_count": 10,
   "metadata": {},
   "outputs": [
    {
     "ename": "ValueError",
     "evalue": "too many values to unpack (expected 4)",
     "output_type": "error",
     "traceback": [
      "\u001b[1;31m---------------------------------------------------------------------------\u001b[0m",
      "\u001b[1;31mValueError\u001b[0m                                Traceback (most recent call last)",
      "\u001b[1;32m<ipython-input-10-ad6992b84f2a>\u001b[0m in \u001b[0;36m<module>\u001b[1;34m\u001b[0m\n\u001b[0;32m      1\u001b[0m \u001b[0mcm\u001b[0m \u001b[1;33m=\u001b[0m \u001b[0msklearn\u001b[0m\u001b[1;33m.\u001b[0m\u001b[0mmetrics\u001b[0m\u001b[1;33m.\u001b[0m\u001b[0mconfusion_matrix\u001b[0m\u001b[1;33m(\u001b[0m\u001b[0my_train\u001b[0m\u001b[1;33m,\u001b[0m \u001b[0mypred\u001b[0m\u001b[1;33m)\u001b[0m\u001b[1;33m\u001b[0m\u001b[1;33m\u001b[0m\u001b[0m\n\u001b[1;32m----> 2\u001b[1;33m \u001b[0mtn\u001b[0m\u001b[1;33m,\u001b[0m \u001b[0mfp\u001b[0m\u001b[1;33m,\u001b[0m \u001b[0mfn\u001b[0m\u001b[1;33m,\u001b[0m \u001b[0mtp\u001b[0m \u001b[1;33m=\u001b[0m \u001b[0mcm\u001b[0m\u001b[1;33m.\u001b[0m\u001b[0mravel\u001b[0m\u001b[1;33m(\u001b[0m\u001b[1;33m)\u001b[0m\u001b[1;33m\u001b[0m\u001b[1;33m\u001b[0m\u001b[0m\n\u001b[0m\u001b[0;32m      3\u001b[0m \u001b[0mprint\u001b[0m\u001b[1;33m(\u001b[0m\u001b[1;34m\"MLP Classifer: \"\u001b[0m\u001b[1;33m)\u001b[0m\u001b[1;33m\u001b[0m\u001b[1;33m\u001b[0m\u001b[0m\n\u001b[0;32m      4\u001b[0m \u001b[0mprint\u001b[0m\u001b[1;33m(\u001b[0m\u001b[0mcm\u001b[0m\u001b[1;33m)\u001b[0m\u001b[1;33m\u001b[0m\u001b[1;33m\u001b[0m\u001b[0m\n",
      "\u001b[1;31mValueError\u001b[0m: too many values to unpack (expected 4)"
     ]
    }
   ],
   "source": []
  },
  {
   "cell_type": "code",
   "execution_count": null,
   "metadata": {},
   "outputs": [],
   "source": [
    "print(\"Evaluation Metrics for Training Set: \")\n",
    "cr = classification_report(y_train,ypred)\n",
    "print(cr)\n",
    "print(\"Misclassification Rate = \", (fp + fn)/(tp + tn + fp + fn))"
   ]
  },
  {
   "cell_type": "markdown",
   "metadata": {},
   "source": [
    "## Test Set Performance Metrics"
   ]
  },
  {
   "cell_type": "code",
   "execution_count": null,
   "metadata": {},
   "outputs": [],
   "source": [
    "y_test_pred = mlp_clf.predict(x_test)\n",
    "y_test_pred"
   ]
  },
  {
   "cell_type": "code",
   "execution_count": null,
   "metadata": {},
   "outputs": [],
   "source": [
    "mlp_test_score = mlp_clf.score(x_test,y_test)\n",
    "mlp_test_score"
   ]
  },
  {
   "cell_type": "code",
   "execution_count": null,
   "metadata": {},
   "outputs": [],
   "source": []
  },
  {
   "cell_type": "code",
   "execution_count": null,
   "metadata": {},
   "outputs": [],
   "source": [
    "print(\"Evaluation Metrics for Test Set: \")"
   ]
  },
  {
   "cell_type": "markdown",
   "metadata": {},
   "source": [
    "# MLP Regressor Alternate Parameters #1"
   ]
  },
  {
   "cell_type": "code",
   "execution_count": null,
   "metadata": {},
   "outputs": [],
   "source": [
    "\n",
    "#Train and fit data\n",
    "mlp_clf = MLPClassifier(hidden_layer_sizes=(5000,5), activation='tanh', \n",
    "                        alpha=0.00001, learning_rate='adaptive', learning_rate_init=0.001,\n",
    "                        max_iter=500, random_state=1, tol=0.0001).fit(x_train,y_train)\n",
    "\n",
    "print(\"Parameters: \")\n",
    "print(\"Iterations: \", mlp_clf.n_iter_)\n",
    "print(\"Learning Rate: 'adaptive'\")\n",
    "print(\"alpha: \", .00001)\n",
    "print (\"Learning Rate Iniitialization: \", .001)\n",
    "print (\"Tolerance: \", .0001)\n",
    "print(\"Activation Function: 'tanh'\")\n",
    "print(\"Number of Hidden Layers: \", mlp_clf.n_layers_ - 2)\n",
    "print(\"Number of Neurons: \", 5000)\n",
    "\n",
    "#probability estimates\n",
    "mlp_clf.predict_proba(x_train)\n",
    "\n",
    "#probability estimates\n",
    "mlp_clf.predict_proba(x_train)\n",
    "ypred = mlp_clf.predict(x_train)\n",
    "print(\"Training Set Performance Metrics\")\n",
    "\n",
    "\n",
    "\n",
    "print(\"Evaluation Metrics for Training Set: \")\n",
    "\n",
    "\n",
    "\n",
    "print(\"Test Set Performance Metrics\")\n",
    "\n",
    "\n"
   ]
  },
  {
   "cell_type": "markdown",
   "metadata": {},
   "source": [
    "# MLP Regressor Alternate Parameters #2"
   ]
  },
  {
   "cell_type": "code",
   "execution_count": null,
   "metadata": {},
   "outputs": [],
   "source": [
    "\n",
    "#Train and fit data\n",
    "mlp_clf = MLPClassifier(hidden_layer_sizes=(500,), activation='logistic', \n",
    "                        alpha=0.001, learning_rate='invscaling', learning_rate_init=0.0001,\n",
    "                        max_iter=500, random_state=1, tol=0.001).fit(x_train,y_train)\n",
    "\n",
    "print(\"Parameters: \")\n",
    "print(\"Iterations: \", mlp_clf.n_iter_)\n",
    "print(\"Learning Rate: 'invscaling'\")\n",
    "print(\"alpha: \", .001)\n",
    "print (\"Learning Rate Iniitialization: \", .0001)\n",
    "print (\"Tolerance: \", .001)\n",
    "print(\"Activation Function: 'logistic'\")\n",
    "print(\"Number of Hidden Layers: \", mlp_clf.n_layers_ - 2)\n",
    "print(\"Number of Neurons: \", 500)\n",
    "\n",
    "#probability estimates\n",
    "mlp_clf.predict_proba(x_train)\n",
    "\n",
    "#probability estimates\n",
    "mlp_clf.predict_proba(x_train)\n",
    "ypred = mlp_clf.predict(x_train)\n",
    "print(\"Training Set Performance Metrics\")\n",
    "\n",
    "print(\"MLP Classifer: \")\n",
    "print(cm)\n",
    "\n",
    "print(\"Evaluation Metrics for Training Set: \")\n",
    "\n",
    "print(\"Test Set Performance Metrics\")\n"
   ]
  },
  {
   "cell_type": "markdown",
   "metadata": {},
   "source": [
    "# MLP Classifier Alternate Parameters # 3\n"
   ]
  },
  {
   "cell_type": "code",
   "execution_count": null,
   "metadata": {},
   "outputs": [],
   "source": [
    "#Train and fit data\n",
    "mlp_clf = MLPClassifier(hidden_layer_sizes=(50,5), activation='identity', \n",
    "                        alpha=0.01, learning_rate='constant', learning_rate_init=0.01,\n",
    "                        max_iter=500, random_state=1, tol=0.001).fit(x_train,y_train)\n",
    "\n",
    "print(\"Parameters: \")\n",
    "print(\"Iterations: \", mlp_clf.n_iter_)\n",
    "print(\"Learning Rate: 'constant'\")\n",
    "print(\"alpha: \", .01)\n",
    "print (\"Learning Rate Iniitialization: \", .01)\n",
    "print (\"Tolerance: \", .001)\n",
    "print(\"Activation Function: 'identity'\")\n",
    "print(\"Number of Hidden Layers: \", mlp_clf.n_layers_ - 2)\n",
    "print(\"Number of Neurons: \", 50)\n",
    "\n",
    "#probability estimates\n",
    "mlp_clf.predict_proba(x_train)\n",
    "\n",
    "#probability estimates\n",
    "mlp_clf.predict_proba(x_train)\n",
    "ypred = mlp_clf.predict(x_train)\n",
    "print(\"Training Set Performance Metrics\")\n",
    "\n",
    "\n",
    "print(\"Evaluation Metrics for Training Set: \")\n",
    "\n",
    "\n",
    "print(\"Test Set Performance Metrics\")\n",
    "\n",
    "\n",
    "print(\"Evaluation Metrics for Test Set: \")"
   ]
  }
 ],
 "metadata": {
  "kernelspec": {
   "display_name": "Python 3",
   "language": "python",
   "name": "python3"
  },
  "language_info": {
   "codemirror_mode": {
    "name": "ipython",
    "version": 3
   },
   "file_extension": ".py",
   "mimetype": "text/x-python",
   "name": "python",
   "nbconvert_exporter": "python",
   "pygments_lexer": "ipython3",
   "version": "3.8.3"
  }
 },
 "nbformat": 4,
 "nbformat_minor": 4
}
